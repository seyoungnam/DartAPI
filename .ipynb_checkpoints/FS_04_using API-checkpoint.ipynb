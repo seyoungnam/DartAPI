{
 "cells": [
  {
   "cell_type": "markdown",
   "metadata": {},
   "source": [
    "<h1>API로 특정기업(삼성전자)의 모든 rcp_no(접수번호) 구하기</h1>\n",
    "\n",
    "<p>'http://dart.fss.or.kr/api/search.xml?auth={}&crp_cd={}&start_dt=19990101&bsn_tp=A001&bsn_tp=A002&bsn_tp=A003&page_set=100'.format(api_key, crp_cd)</p>\n",
    "\n",
    "<p>re.findall(r'<rpt_nm>(.*?)</rpt_nm>', webpage)</p>"
   ]
  },
  {
   "cell_type": "code",
   "execution_count": 1,
   "metadata": {},
   "outputs": [],
   "source": [
    "api_key = '27d86452b033fe973df6f1c980c37a2586801a1a'\n",
    "crp_cd = '005930'\n",
    "\n",
    "url = 'http://dart.fss.or.kr/api/search.xml?auth={}&crp_cd={}&start_dt=19990101&bsn_tp=A001&bsn_tp=A002&bsn_tp=A003&page_set=100'.format(api_key, crp_cd)"
   ]
  },
  {
   "cell_type": "code",
   "execution_count": 2,
   "metadata": {},
   "outputs": [],
   "source": [
    "import requests\n",
    "from io import BytesIO\n",
    "import pandas as pd\n",
    "import re"
   ]
  },
  {
   "cell_type": "code",
   "execution_count": 3,
   "metadata": {},
   "outputs": [],
   "source": [
    "resp = requests.get(url)\n",
    "webpage = resp.content.decode('UTF-8')"
   ]
  },
  {
   "cell_type": "code",
   "execution_count": 4,
   "metadata": {},
   "outputs": [
    {
     "data": {
      "text/plain": [
       "'<?xml version=\"1.0\" encoding=\"utf-8\"?>\\n<result>\\n  <err_code>000</err_code>\\n  <err_msg>정상</err_msg>\\n  <page_no>1</page_no>\\n  <page_set>100</page_set>\\n  <total_count>87</total_count>\\n  <total_page>1</total_page>\\n  <list>\\n    <crp_cls>Y</crp_cls>\\n    <crp_nm>삼성전자</crp_nm>\\n    <crp_cd>005930</crp_cd>\\n    <rpt_nm>분기보고서 (2019.09)</rpt_nm>\\n    <rcp_no>20191114001273</rcp_no>\\n    <flr_nm>삼성전자</flr_nm>\\n    <rcp_dt>20191114</rcp_dt>\\n    <rmk></rmk>\\n  </list>\\n  <list>\\n    <crp_cls>Y</crp_cls>\\n    <crp_nm>삼성전자</crp_nm>\\n    <crp_cd>005930</crp_cd>\\n    <rpt_nm>반기보고서 (2019.06)</rpt_nm>\\n    <rcp_no>20190814002218</rcp_no>\\n    <flr_nm>삼성전자</flr_nm>\\n    <rcp_dt>20190814</rcp_dt>\\n    <rmk></rmk>\\n  </list>\\n  <list>\\n    <crp_cls>Y</crp_cls>\\n    <crp_nm>삼성전자</crp_nm>\\n    <crp_cd>005930</crp_cd>\\n    <rpt_nm>분기보고서 (2019.03)</rpt_nm>\\n    <rcp_no>20190515001605</rcp_no>\\n    <flr_nm>삼성전자</flr_nm>\\n    <rcp_dt>20190515</rcp_dt>\\n    <rmk></rmk>\\n  </list>\\n  <list>\\n    <crp_cls>Y</crp_cls>\\n    <crp_nm>삼성전자</crp_nm>\\n    <crp_cd>005930</crp_cd>\\n    <rpt_nm>사업보고서 (2018.12)</rpt_nm>\\n    <rcp_no>20190401004781</rcp_no>\\n    <flr_nm>삼성전자</flr_nm>\\n    <rcp_dt>20190401</rcp_dt>\\n    <rmk>연</rmk>\\n  </list>\\n  <list>\\n    <crp_cls>Y</crp_cls>\\n    <crp_nm>삼성전자</crp_nm>\\n    <crp_cd>005930</crp_cd>\\n    <rpt_nm>분기보고서 (2018.09)</rpt_nm>\\n    <rcp_no>20181114001530</rcp_no>\\n    <flr_nm>삼성전자</flr_nm>\\n    <rcp_dt>20181114</rcp_dt>\\n    <rmk></rmk>\\n  </list>\\n  <list>\\n    <crp_cls>Y</crp_cls>\\n    <crp_nm>삼성전자</crp_nm>\\n    <crp_cd>005930</crp_cd>\\n    <rpt_nm>반기보고서 (2018.06)</rpt_nm>\\n    <rcp_no>20180814001113</rcp_no>\\n    <flr_nm>삼성전자</flr_nm>\\n    <rcp_dt>20180814</rcp_dt>\\n    <rmk></rmk>\\n  </list>\\n  <list>\\n    <crp_cls>Y</crp_cls>\\n    <crp_nm>삼성전자</crp_nm>\\n    <crp_cd>005930</crp_cd>\\n    <rpt_nm>분기보고서 (2018.03)</rpt_nm>\\n    <rcp_no>20180515001699</rcp_no>\\n    <flr_nm>삼성전자</flr_nm>\\n    <rcp_dt>20180515</rcp_dt>\\n    <rmk></rmk>\\n  </list>\\n  <list>\\n    <crp_cls>Y</crp_cls>\\n    <crp_nm>삼성전자</crp_nm>\\n    <crp_cd>005930</crp_cd>\\n    <rpt_nm>사업보고서 (2017.12)</rpt_nm>\\n    <rcp_no>20180402005019</rcp_no>\\n    <flr_nm>삼성전자</flr_nm>\\n    <rcp_dt>20180402</rcp_dt>\\n    <rmk>연</rmk>\\n  </list>\\n  <list>\\n    <crp_cls>Y</crp_cls>\\n    <crp_nm>삼성전자</crp_nm>\\n    <crp_cd>005930</crp_cd>\\n    <rpt_nm>분기보고서 (2017.09)</rpt_nm>\\n    <rcp_no>20171114001694</rcp_no>\\n    <flr_nm>삼성전자</flr_nm>\\n    <rcp_dt>20171114</rcp_dt>\\n    <rmk></rmk>\\n  </list>\\n  <list>\\n    <crp_cls>Y</crp_cls>\\n    <crp_nm>삼성전자</crp_nm>\\n    <crp_cd>005930</crp_cd>\\n    <rpt_nm>반기보고서 (2017.06)</rpt_nm>\\n    <rcp_no>20170814001832</rcp_no>\\n    <flr_nm>삼성전자</flr_nm>\\n    <rcp_dt>20170814</rcp_dt>\\n    <rmk></rmk>\\n  </list>\\n  <list>\\n    <crp_cls>Y</crp_cls>\\n    <crp_nm>삼성전자</crp_nm>\\n    <crp_cd>005930</crp_cd>\\n    <rpt_nm>분기보고서 (2017.03)</rpt_nm>\\n    <rcp_no>20170515003806</rcp_no>\\n    <flr_nm>삼성전자</flr_nm>\\n    <rcp_dt>20170515</rcp_dt>\\n    <rmk></rmk>\\n  </list>\\n  <list>\\n    <crp_cls>Y</crp_cls>\\n    <crp_nm>삼성전자</crp_nm>\\n    <crp_cd>005930</crp_cd>\\n    <rpt_nm>사업보고서 (2016.12)</rpt_nm>\\n    <rcp_no>20170331004518</rcp_no>\\n    <flr_nm>삼성전자</flr_nm>\\n    <rcp_dt>20170331</rcp_dt>\\n    <rmk>연</rmk>\\n  </list>\\n  <list>\\n    <crp_cls>Y</crp_cls>\\n    <crp_nm>삼성전자</crp_nm>\\n    <crp_cd>005930</crp_cd>\\n    <rpt_nm>분기보고서 (2016.09)</rpt_nm>\\n    <rcp_no>20161114001491</rcp_no>\\n    <flr_nm>삼성전자</flr_nm>\\n    <rcp_dt>20161114</rcp_dt>\\n    <rmk></rmk>\\n  </list>\\n  <list>\\n    <crp_cls>Y</crp_cls>\\n    <crp_nm>삼성전자</crp_nm>\\n    <crp_cd>005930</crp_cd>\\n    <rpt_nm>반기보고서 (2016.06)</rpt_nm>\\n    <rcp_no>20160816001779</rcp_no>\\n    <flr_nm>삼성전자</flr_nm>\\n    <rcp_dt>20160816</rcp_dt>\\n    <rmk></rmk>\\n  </list>\\n  <list>\\n    <crp_cls>Y</crp_cls>\\n    <crp_nm>삼성전자</crp_nm>\\n    <crp_cd>005930</crp_cd>\\n    <rpt_nm>분기보고서 (2016.03)</rpt_nm>\\n    <rcp_no>20160516003174</rcp_no>\\n    <flr_nm>삼성전자</flr_nm>\\n    <rcp_dt>20160516</rcp_dt>\\n    <rmk></rmk>\\n  </list>\\n  <list>\\n    <crp_cls>Y</crp_cls>\\n    <crp_nm>삼성전자</crp_nm>\\n    <crp_cd>005930</crp_cd>\\n    <rpt_nm>사업보고서 (2015.12)</rpt_nm>\\n    <rcp_no>20160330003536</rcp_no>\\n    <flr_nm>삼성전자</flr_nm>\\n    <rcp_dt>20160330</rcp_dt>\\n    <rmk>연</rmk>\\n  </list>\\n  <list>\\n    <crp_cls>Y</crp_cls>\\n    <crp_nm>삼성전자</crp_nm>\\n    <crp_cd>005930</crp_cd>\\n    <rpt_nm>분기보고서 (2015.09)</rpt_nm>\\n    <rcp_no>20151116000976</rcp_no>\\n    <flr_nm>삼성전자</flr_nm>\\n    <rcp_dt>20151116</rcp_dt>\\n    <rmk></rmk>\\n  </list>\\n  <list>\\n    <crp_cls>Y</crp_cls>\\n    <crp_nm>삼성전자</crp_nm>\\n    <crp_cd>005930</crp_cd>\\n    <rpt_nm>반기보고서 (2015.06)</rpt_nm>\\n    <rcp_no>20150817000859</rcp_no>\\n    <flr_nm>삼성전자</flr_nm>\\n    <rcp_dt>20150817</rcp_dt>\\n    <rmk></rmk>\\n  </list>\\n  <list>\\n    <crp_cls>Y</crp_cls>\\n    <crp_nm>삼성전자</crp_nm>\\n    <crp_cd>005930</crp_cd>\\n    <rpt_nm>분기보고서 (2015.03)</rpt_nm>\\n    <rcp_no>20150515001379</rcp_no>\\n    <flr_nm>삼성전자</flr_nm>\\n    <rcp_dt>20150515</rcp_dt>\\n    <rmk></rmk>\\n  </list>\\n  <list>\\n    <crp_cls>Y</crp_cls>\\n    <crp_nm>삼성전자</crp_nm>\\n    <crp_cd>005930</crp_cd>\\n    <rpt_nm>사업보고서 (2014.12)</rpt_nm>\\n    <rcp_no>20150331002915</rcp_no>\\n    <flr_nm>삼성전자</flr_nm>\\n    <rcp_dt>20150331</rcp_dt>\\n    <rmk>연</rmk>\\n  </list>\\n  <list>\\n    <crp_cls>Y</crp_cls>\\n    <crp_nm>삼성전자</crp_nm>\\n    <crp_cd>005930</crp_cd>\\n    <rpt_nm>분기보고서 (2014.09)</rpt_nm>\\n    <rcp_no>20141114000755</rcp_no>\\n    <flr_nm>삼성전자</flr_nm>\\n    <rcp_dt>20141114</rcp_dt>\\n    <rmk></rmk>\\n  </list>\\n  <list>\\n    <crp_cls>Y</crp_cls>\\n    <crp_nm>삼성전자</crp_nm>\\n    <crp_cd>005930</crp_cd>\\n    <rpt_nm>반기보고서 (2014.06)</rpt_nm>\\n    <rcp_no>20140814000743</rcp_no>\\n    <flr_nm>삼성전자</flr_nm>\\n    <rcp_dt>20140814</rcp_dt>\\n    <rmk></rmk>\\n  </list>\\n  <list>\\n    <crp_cls>Y</crp_cls>\\n    <crp_nm>삼성전자</crp_nm>\\n    <crp_cd>005930</crp_cd>\\n    <rpt_nm>분기보고서 (2014.03)</rpt_nm>\\n    <rcp_no>20140515001057</rcp_no>\\n    <flr_nm>삼성전자</flr_nm>\\n    <rcp_dt>20140515</rcp_dt>\\n    <rmk></rmk>\\n  </list>\\n  <list>\\n    <crp_cls>Y</crp_cls>\\n    <crp_nm>삼성전자</crp_nm>\\n    <crp_cd>005930</crp_cd>\\n    <rpt_nm>사업보고서 (2013.12)</rpt_nm>\\n    <rcp_no>20140331002427</rcp_no>\\n    <flr_nm>삼성전자</flr_nm>\\n    <rcp_dt>20140331</rcp_dt>\\n    <rmk>연</rmk>\\n  </list>\\n  <list>\\n    <crp_cls>Y</crp_cls>\\n    <crp_nm>삼성전자</crp_nm>\\n    <crp_cd>005930</crp_cd>\\n    <rpt_nm>분기보고서 (2013.09)</rpt_nm>\\n    <rcp_no>20131114000520</rcp_no>\\n    <flr_nm>삼성전자</flr_nm>\\n    <rcp_dt>20131114</rcp_dt>\\n    <rmk></rmk>\\n  </list>\\n  <list>\\n    <crp_cls>Y</crp_cls>\\n    <crp_nm>삼성전자</crp_nm>\\n    <crp_cd>005930</crp_cd>\\n    <rpt_nm>반기보고서 (2013.06)</rpt_nm>\\n    <rcp_no>20130814000618</rcp_no>\\n    <flr_nm>삼성전자</flr_nm>\\n    <rcp_dt>20130814</rcp_dt>\\n    <rmk></rmk>\\n  </list>\\n  <list>\\n    <crp_cls>Y</crp_cls>\\n    <crp_nm>삼성전자</crp_nm>\\n    <crp_cd>005930</crp_cd>\\n    <rpt_nm>분기보고서 (2013.03)</rpt_nm>\\n    <rcp_no>20130515000677</rcp_no>\\n    <flr_nm>삼성전자</flr_nm>\\n    <rcp_dt>20130515</rcp_dt>\\n    <rmk></rmk>\\n  </list>\\n  <list>\\n    <crp_cls>Y</crp_cls>\\n    <crp_nm>삼성전자</crp_nm>\\n    <crp_cd>005930</crp_cd>\\n    <rpt_nm>사업보고서 (2012.12)</rpt_nm>\\n    <rcp_no>20130401003031</rcp_no>\\n    <flr_nm>삼성전자</flr_nm>\\n    <rcp_dt>20130401</rcp_dt>\\n    <rmk>연</rmk>\\n  </list>\\n  <list>\\n    <crp_cls>Y</crp_cls>\\n    <crp_nm>삼성전자</crp_nm>\\n    <crp_cd>005930</crp_cd>\\n    <rpt_nm>분기보고서 (2012.09)</rpt_nm>\\n    <rcp_no>20121114000975</rcp_no>\\n    <flr_nm>삼성전자</flr_nm>\\n    <rcp_dt>20121114</rcp_dt>\\n    <rmk></rmk>\\n  </list>\\n  <list>\\n    <crp_cls>Y</crp_cls>\\n    <crp_nm>삼성전자</crp_nm>\\n    <crp_cd>005930</crp_cd>\\n    <rpt_nm>반기보고서 (2012.06)</rpt_nm>\\n    <rcp_no>20120814001232</rcp_no>\\n    <flr_nm>삼성전자</flr_nm>\\n    <rcp_dt>20120814</rcp_dt>\\n    <rmk></rmk>\\n  </list>\\n  <list>\\n    <crp_cls>Y</crp_cls>\\n    <crp_nm>삼성전자</crp_nm>\\n    <crp_cd>005930</crp_cd>\\n    <rpt_nm>분기보고서 (2012.03)</rpt_nm>\\n    <rcp_no>20120515001281</rcp_no>\\n    <flr_nm>삼성전자</flr_nm>\\n    <rcp_dt>20120515</rcp_dt>\\n    <rmk></rmk>\\n  </list>\\n  <list>\\n    <crp_cls>Y</crp_cls>\\n    <crp_nm>삼성전자</crp_nm>\\n    <crp_cd>005930</crp_cd>\\n    <rpt_nm>[첨부추가]사업보고서 (2011.12)</rpt_nm>\\n    <rcp_no>20120330002110</rcp_no>\\n    <flr_nm>삼성전자</flr_nm>\\n    <rcp_dt>20120330</rcp_dt>\\n    <rmk>연</rmk>\\n  </list>\\n  <list>\\n    <crp_cls>Y</crp_cls>\\n    <crp_nm>삼성전자</crp_nm>\\n    <crp_cd>005930</crp_cd>\\n    <rpt_nm>분기보고서 (2011.09)</rpt_nm>\\n    <rcp_no>20111129000501</rcp_no>\\n    <flr_nm>삼성전자</flr_nm>\\n    <rcp_dt>20111129</rcp_dt>\\n    <rmk></rmk>\\n  </list>\\n  <list>\\n    <crp_cls>Y</crp_cls>\\n    <crp_nm>삼성전자</crp_nm>\\n    <crp_cd>005930</crp_cd>\\n    <rpt_nm>[기재정정]반기보고서 (2011.06)</rpt_nm>\\n    <rcp_no>20110916000072</rcp_no>\\n    <flr_nm>삼성전자</flr_nm>\\n    <rcp_dt>20110916</rcp_dt>\\n    <rmk></rmk>\\n  </list>\\n  <list>\\n    <crp_cls>Y</crp_cls>\\n    <crp_nm>삼성전자</crp_nm>\\n    <crp_cd>005930</crp_cd>\\n    <rpt_nm>반기보고서 (2011.06)</rpt_nm>\\n    <rcp_no>20110829000539</rcp_no>\\n    <flr_nm>삼성전자</flr_nm>\\n    <rcp_dt>20110829</rcp_dt>\\n    <rmk>정</rmk>\\n  </list>\\n  <list>\\n    <crp_cls>Y</crp_cls>\\n    <crp_nm>삼성전자</crp_nm>\\n    <crp_cd>005930</crp_cd>\\n    <rpt_nm>분기보고서 (2011.03)</rpt_nm>\\n    <rcp_no>20110530000628</rcp_no>\\n    <flr_nm>삼성전자</flr_nm>\\n    <rcp_dt>20110530</rcp_dt>\\n    <rmk></rmk>\\n  </list>\\n  <list>\\n    <crp_cls>Y</crp_cls>\\n    <crp_nm>삼성전자</crp_nm>\\n    <crp_cd>005930</crp_cd>\\n    <rpt_nm>[첨부추가]사업보고서 (2010.12)</rpt_nm>\\n    <rcp_no>20110331002193</rcp_no>\\n    <flr_nm>삼성전자</flr_nm>\\n    <rcp_dt>20110331</rcp_dt>\\n    <rmk>연</rmk>\\n  </list>\\n  <list>\\n    <crp_cls>Y</crp_cls>\\n    <crp_nm>삼성전자</crp_nm>\\n    <crp_cd>005930</crp_cd>\\n    <rpt_nm>분기보고서 (2010.09)</rpt_nm>\\n    <rcp_no>20101129000419</rcp_no>\\n    <flr_nm>삼성전자</flr_nm>\\n    <rcp_dt>20101129</rcp_dt>\\n    <rmk></rmk>\\n  </list>\\n  <list>\\n    <crp_cls>Y</crp_cls>\\n    <crp_nm>삼성전자</crp_nm>\\n    <crp_cd>005930</crp_cd>\\n    <rpt_nm>반기보고서 (2010.06)</rpt_nm>\\n    <rcp_no>20100830000360</rcp_no>\\n    <flr_nm>삼성전자</flr_nm>\\n    <rcp_dt>20100830</rcp_dt>\\n    <rmk></rmk>\\n  </list>\\n  <list>\\n    <crp_cls>Y</crp_cls>\\n    <crp_nm>삼성전자</crp_nm>\\n    <crp_cd>005930</crp_cd>\\n    <rpt_nm>분기보고서 (2010.03)</rpt_nm>\\n    <rcp_no>20100531001169</rcp_no>\\n    <flr_nm>삼성전자</flr_nm>\\n    <rcp_dt>20100531</rcp_dt>\\n    <rmk></rmk>\\n  </list>\\n  <list>\\n    <crp_cls>Y</crp_cls>\\n    <crp_nm>삼성전자</crp_nm>\\n    <crp_cd>005930</crp_cd>\\n    <rpt_nm>[첨부추가]사업보고서 (2009.12)</rpt_nm>\\n    <rcp_no>20100331001680</rcp_no>\\n    <flr_nm>삼성전자</flr_nm>\\n    <rcp_dt>20100331</rcp_dt>\\n    <rmk>연</rmk>\\n  </list>\\n  <list>\\n    <crp_cls>Y</crp_cls>\\n    <crp_nm>삼성전자</crp_nm>\\n    <crp_cd>005930</crp_cd>\\n    <rpt_nm>분기보고서 (2009.09)</rpt_nm>\\n    <rcp_no>20091116000492</rcp_no>\\n    <flr_nm>삼성전자</flr_nm>\\n    <rcp_dt>20091116</rcp_dt>\\n    <rmk></rmk>\\n  </list>\\n  <list>\\n    <crp_cls>Y</crp_cls>\\n    <crp_nm>삼성전자</crp_nm>\\n    <crp_cd>005930</crp_cd>\\n    <rpt_nm>반기보고서 (2009.06)</rpt_nm>\\n    <rcp_no>20090814001311</rcp_no>\\n    <flr_nm>삼성전자</flr_nm>\\n    <rcp_dt>20090814</rcp_dt>\\n    <rmk></rmk>\\n  </list>\\n  <list>\\n    <crp_cls>Y</crp_cls>\\n    <crp_nm>삼성전자</crp_nm>\\n    <crp_cd>005930</crp_cd>\\n    <rpt_nm>분기보고서 (2009.03)</rpt_nm>\\n    <rcp_no>20090515001705</rcp_no>\\n    <flr_nm>삼성전자</flr_nm>\\n    <rcp_dt>20090515</rcp_dt>\\n    <rmk></rmk>\\n  </list>\\n  <list>\\n    <crp_cls>Y</crp_cls>\\n    <crp_nm>삼성전자</crp_nm>\\n    <crp_cd>005930</crp_cd>\\n    <rpt_nm>[첨부추가]사업보고서 (2008.12)</rpt_nm>\\n    <rcp_no>20090331002550</rcp_no>\\n    <flr_nm>삼성전자</flr_nm>\\n    <rcp_dt>20090331</rcp_dt>\\n    <rmk>연</rmk>\\n  </list>\\n  <list>\\n    <crp_cls>Y</crp_cls>\\n    <crp_nm>삼성전자</crp_nm>\\n    <crp_cd>005930</crp_cd>\\n    <rpt_nm>분기보고서 (2008.09)</rpt_nm>\\n    <rcp_no>20081114000862</rcp_no>\\n    <flr_nm>삼성전자</flr_nm>\\n    <rcp_dt>20081114</rcp_dt>\\n    <rmk></rmk>\\n  </list>\\n  <list>\\n    <crp_cls>Y</crp_cls>\\n    <crp_nm>삼성전자</crp_nm>\\n    <crp_cd>005930</crp_cd>\\n    <rpt_nm>반기보고서 (2008.06)</rpt_nm>\\n    <rcp_no>20080814001491</rcp_no>\\n    <flr_nm>삼성전자</flr_nm>\\n    <rcp_dt>20080814</rcp_dt>\\n    <rmk></rmk>\\n  </list>\\n  <list>\\n    <crp_cls>Y</crp_cls>\\n    <crp_nm>삼성전자</crp_nm>\\n    <crp_cd>005930</crp_cd>\\n    <rpt_nm>분기보고서 (2008.03)</rpt_nm>\\n    <rcp_no>20080515001670</rcp_no>\\n    <flr_nm>삼성전자</flr_nm>\\n    <rcp_dt>20080515</rcp_dt>\\n    <rmk></rmk>\\n  </list>\\n  <list>\\n    <crp_cls>Y</crp_cls>\\n    <crp_nm>삼성전자</crp_nm>\\n    <crp_cd>005930</crp_cd>\\n    <rpt_nm>[첨부추가]사업보고서 (2007.12)</rpt_nm>\\n    <rcp_no>20080331002164</rcp_no>\\n    <flr_nm>삼성전자</flr_nm>\\n    <rcp_dt>20080331</rcp_dt>\\n    <rmk>연</rmk>\\n  </list>\\n  <list>\\n    <crp_cls>Y</crp_cls>\\n    <crp_nm>삼성전자</crp_nm>\\n    <crp_cd>005930</crp_cd>\\n    <rpt_nm>분기보고서 (2007.09)</rpt_nm>\\n    <rcp_no>20071114001227</rcp_no>\\n    <flr_nm>삼성전자</flr_nm>\\n    <rcp_dt>20071114</rcp_dt>\\n    <rmk></rmk>\\n  </list>\\n  <list>\\n    <crp_cls>Y</crp_cls>\\n    <crp_nm>삼성전자</crp_nm>\\n    <crp_cd>005930</crp_cd>\\n    <rpt_nm>반기보고서 (2007.06)</rpt_nm>\\n    <rcp_no>20070814001689</rcp_no>\\n    <flr_nm>삼성전자</flr_nm>\\n    <rcp_dt>20070814</rcp_dt>\\n    <rmk></rmk>\\n  </list>\\n  <list>\\n    <crp_cls>Y</crp_cls>\\n    <crp_nm>삼성전자</crp_nm>\\n    <crp_cd>005930</crp_cd>\\n    <rpt_nm>분기보고서 (2007.03)</rpt_nm>\\n    <rcp_no>20070515001702</rcp_no>\\n    <flr_nm>삼성전자</flr_nm>\\n    <rcp_dt>20070515</rcp_dt>\\n    <rmk></rmk>\\n  </list>\\n  <list>\\n    <crp_cls>Y</crp_cls>\\n    <crp_nm>삼성전자</crp_nm>\\n    <crp_cd>005930</crp_cd>\\n    <rpt_nm>[첨부추가]사업보고서 (2006.12)</rpt_nm>\\n    <rcp_no>20070330001989</rcp_no>\\n    <flr_nm>삼성전자</flr_nm>\\n    <rcp_dt>20070330</rcp_dt>\\n    <rmk>연</rmk>\\n  </list>\\n  <list>\\n    <crp_cls>Y</crp_cls>\\n    <crp_nm>삼성전자</crp_nm>\\n    <crp_cd>005930</crp_cd>\\n    <rpt_nm>분기보고서 (2006.09)</rpt_nm>\\n    <rcp_no>20061114001806</rcp_no>\\n    <flr_nm>삼성전자</flr_nm>\\n    <rcp_dt>20061114</rcp_dt>\\n    <rmk></rmk>\\n  </list>\\n  <list>\\n    <crp_cls>Y</crp_cls>\\n    <crp_nm>삼성전자</crp_nm>\\n    <crp_cd>005930</crp_cd>\\n    <rpt_nm>[첨부정정]반기보고서 (2006.06)</rpt_nm>\\n    <rcp_no>20060822000056</rcp_no>\\n    <flr_nm>삼성전자</flr_nm>\\n    <rcp_dt>20060822</rcp_dt>\\n    <rmk></rmk>\\n  </list>\\n  <list>\\n    <crp_cls>Y</crp_cls>\\n    <crp_nm>삼성전자</crp_nm>\\n    <crp_cd>005930</crp_cd>\\n    <rpt_nm>반기보고서 (2006.06)</rpt_nm>\\n    <rcp_no>20060814001131</rcp_no>\\n    <flr_nm>삼성전자</flr_nm>\\n    <rcp_dt>20060814</rcp_dt>\\n    <rmk>정</rmk>\\n  </list>\\n  <list>\\n    <crp_cls>Y</crp_cls>\\n    <crp_nm>삼성전자</crp_nm>\\n    <crp_cd>005930</crp_cd>\\n    <rpt_nm>분기보고서 (2006.03)</rpt_nm>\\n    <rcp_no>20060515002848</rcp_no>\\n    <flr_nm>삼성전자</flr_nm>\\n    <rcp_dt>20060515</rcp_dt>\\n    <rmk></rmk>\\n  </list>\\n  <list>\\n    <crp_cls>Y</crp_cls>\\n    <crp_nm>삼성전자</crp_nm>\\n    <crp_cd>005930</crp_cd>\\n    <rpt_nm>[첨부추가]사업보고서 (2005.12)</rpt_nm>\\n    <rcp_no>20060331001832</rcp_no>\\n    <flr_nm>삼성전자</flr_nm>\\n    <rcp_dt>20060331</rcp_dt>\\n    <rmk>연</rmk>\\n  </list>\\n  <list>\\n    <crp_cls>Y</crp_cls>\\n    <crp_nm>삼성전자</crp_nm>\\n    <crp_cd>005930</crp_cd>\\n    <rpt_nm>분기보고서 (2005.09)</rpt_nm>\\n    <rcp_no>20051114001373</rcp_no>\\n    <flr_nm>삼성전자</flr_nm>\\n    <rcp_dt>20051114</rcp_dt>\\n    <rmk></rmk>\\n  </list>\\n  <list>\\n    <crp_cls>Y</crp_cls>\\n    <crp_nm>삼성전자</crp_nm>\\n    <crp_cd>005930</crp_cd>\\n    <rpt_nm>반기보고서 (2005.06)</rpt_nm>\\n    <rcp_no>20050816000742</rcp_no>\\n    <flr_nm>삼성전자</flr_nm>\\n    <rcp_dt>20050816</rcp_dt>\\n    <rmk></rmk>\\n  </list>\\n  <list>\\n    <crp_cls>Y</crp_cls>\\n    <crp_nm>삼성전자</crp_nm>\\n    <crp_cd>005930</crp_cd>\\n    <rpt_nm>분기보고서 (2005.03)</rpt_nm>\\n    <rcp_no>20050513002190</rcp_no>\\n    <flr_nm>삼성전자</flr_nm>\\n    <rcp_dt>20050513</rcp_dt>\\n    <rmk></rmk>\\n  </list>\\n  <list>\\n    <crp_cls>Y</crp_cls>\\n    <crp_nm>삼성전자</crp_nm>\\n    <crp_cd>005930</crp_cd>\\n    <rpt_nm>[첨부추가]사업보고서 (2004.12)</rpt_nm>\\n    <rcp_no>20050331002046</rcp_no>\\n    <flr_nm>삼성전자</flr_nm>\\n    <rcp_dt>20050331</rcp_dt>\\n    <rmk>연</rmk>\\n  </list>\\n  <list>\\n    <crp_cls>Y</crp_cls>\\n    <crp_nm>삼성전자</crp_nm>\\n    <crp_cd>005930</crp_cd>\\n    <rpt_nm>분기보고서 (2004.09)</rpt_nm>\\n    <rcp_no>20041115001020</rcp_no>\\n    <flr_nm>삼성전자</flr_nm>\\n    <rcp_dt>20041115</rcp_dt>\\n    <rmk></rmk>\\n  </list>\\n  <list>\\n    <crp_cls>Y</crp_cls>\\n    <crp_nm>삼성전자</crp_nm>\\n    <crp_cd>005930</crp_cd>\\n    <rpt_nm>반기보고서 (2004.06)</rpt_nm>\\n    <rcp_no>20040813001132</rcp_no>\\n    <flr_nm>삼성전자</flr_nm>\\n    <rcp_dt>20040813</rcp_dt>\\n    <rmk></rmk>\\n  </list>\\n  <list>\\n    <crp_cls>Y</crp_cls>\\n    <crp_nm>삼성전자</crp_nm>\\n    <crp_cd>005930</crp_cd>\\n    <rpt_nm>분기보고서 (2004.03)</rpt_nm>\\n    <rcp_no>20040514002876</rcp_no>\\n    <flr_nm>삼성전자</flr_nm>\\n    <rcp_dt>20040514</rcp_dt>\\n    <rmk></rmk>\\n  </list>\\n  <list>\\n    <crp_cls>Y</crp_cls>\\n    <crp_nm>삼성전자</crp_nm>\\n    <crp_cd>005930</crp_cd>\\n    <rpt_nm>[첨부추가]사업보고서 (2003.12)</rpt_nm>\\n    <rcp_no>20040330001899</rcp_no>\\n    <flr_nm>삼성전자</flr_nm>\\n    <rcp_dt>20040330</rcp_dt>\\n    <rmk>연</rmk>\\n  </list>\\n  <list>\\n    <crp_cls>Y</crp_cls>\\n    <crp_nm>삼성전자</crp_nm>\\n    <crp_cd>005930</crp_cd>\\n    <rpt_nm>분기보고서 (2003.09)</rpt_nm>\\n    <rcp_no>20031114001124</rcp_no>\\n    <flr_nm>삼성전자</flr_nm>\\n    <rcp_dt>20031114</rcp_dt>\\n    <rmk></rmk>\\n  </list>\\n  <list>\\n    <crp_cls>Y</crp_cls>\\n    <crp_nm>삼성전자</crp_nm>\\n    <crp_cd>005930</crp_cd>\\n    <rpt_nm>반기보고서 (2003.06)</rpt_nm>\\n    <rcp_no>20030813000500</rcp_no>\\n    <flr_nm>삼성전자</flr_nm>\\n    <rcp_dt>20030813</rcp_dt>\\n    <rmk></rmk>\\n  </list>\\n  <list>\\n    <crp_cls>Y</crp_cls>\\n    <crp_nm>삼성전자</crp_nm>\\n    <crp_cd>005930</crp_cd>\\n    <rpt_nm>분기보고서 (2003.03)</rpt_nm>\\n    <rcp_no>20030515000631</rcp_no>\\n    <flr_nm>삼성전자</flr_nm>\\n    <rcp_dt>20030515</rcp_dt>\\n    <rmk></rmk>\\n  </list>\\n  <list>\\n    <crp_cls>Y</crp_cls>\\n    <crp_nm>삼성전자</crp_nm>\\n    <crp_cd>005930</crp_cd>\\n    <rpt_nm>[기재정정]사업보고서 (2002.12)</rpt_nm>\\n    <rcp_no>20030407000694</rcp_no>\\n    <flr_nm>삼성전자</flr_nm>\\n    <rcp_dt>20030407</rcp_dt>\\n    <rmk>연</rmk>\\n  </list>\\n  <list>\\n    <crp_cls>Y</crp_cls>\\n    <crp_nm>삼성전자</crp_nm>\\n    <crp_cd>005930</crp_cd>\\n    <rpt_nm>[첨부추가]사업보고서 (2002.12)</rpt_nm>\\n    <rcp_no>20030331001534</rcp_no>\\n    <flr_nm>삼성전자</flr_nm>\\n    <rcp_dt>20030331</rcp_dt>\\n    <rmk>정연</rmk>\\n  </list>\\n  <list>\\n    <crp_cls>Y</crp_cls>\\n    <crp_nm>삼성전자</crp_nm>\\n    <crp_cd>005930</crp_cd>\\n    <rpt_nm>분기보고서 (2002.09)</rpt_nm>\\n    <rcp_no>20021114000256</rcp_no>\\n    <flr_nm>삼성전자</flr_nm>\\n    <rcp_dt>20021114</rcp_dt>\\n    <rmk></rmk>\\n  </list>\\n  <list>\\n    <crp_cls>Y</crp_cls>\\n    <crp_nm>삼성전자</crp_nm>\\n    <crp_cd>005930</crp_cd>\\n    <rpt_nm>반기보고서 (2002.06)</rpt_nm>\\n    <rcp_no>20020814000096</rcp_no>\\n    <flr_nm>삼성전자</flr_nm>\\n    <rcp_dt>20020814</rcp_dt>\\n    <rmk></rmk>\\n  </list>\\n  <list>\\n    <crp_cls>Y</crp_cls>\\n    <crp_nm>삼성전자</crp_nm>\\n    <crp_cd>005930</crp_cd>\\n    <rpt_nm>분기보고서 (2002.03)</rpt_nm>\\n    <rcp_no>20020515000772</rcp_no>\\n    <flr_nm>삼성전자</flr_nm>\\n    <rcp_dt>20020515</rcp_dt>\\n    <rmk></rmk>\\n  </list>\\n  <list>\\n    <crp_cls>Y</crp_cls>\\n    <crp_nm>삼성전자</crp_nm>\\n    <crp_cd>005930</crp_cd>\\n    <rpt_nm>[첨부추가]사업보고서 (2001.12)</rpt_nm>\\n    <rcp_no>20020401001077</rcp_no>\\n    <flr_nm>삼성전자</flr_nm>\\n    <rcp_dt>20020401</rcp_dt>\\n    <rmk>연</rmk>\\n  </list>\\n  <list>\\n    <crp_cls>Y</crp_cls>\\n    <crp_nm>삼성전자</crp_nm>\\n    <crp_cd>005930</crp_cd>\\n    <rpt_nm>분기보고서 (2001.09)</rpt_nm>\\n    <rcp_no>20011114000621</rcp_no>\\n    <flr_nm>삼성전자</flr_nm>\\n    <rcp_dt>20011114</rcp_dt>\\n    <rmk></rmk>\\n  </list>\\n  <list>\\n    <crp_cls>Y</crp_cls>\\n    <crp_nm>삼성전자</crp_nm>\\n    <crp_cd>005930</crp_cd>\\n    <rpt_nm>반기보고서 (2001.06)</rpt_nm>\\n    <rcp_no>20010814001128</rcp_no>\\n    <flr_nm>삼성전자</flr_nm>\\n    <rcp_dt>20010816</rcp_dt>\\n    <rmk></rmk>\\n  </list>\\n  <list>\\n    <crp_cls>Y</crp_cls>\\n    <crp_nm>삼성전자</crp_nm>\\n    <crp_cd>005930</crp_cd>\\n    <rpt_nm>분기보고서 (2001.03)</rpt_nm>\\n    <rcp_no>20010515000548</rcp_no>\\n    <flr_nm>삼성전자</flr_nm>\\n    <rcp_dt>20010515</rcp_dt>\\n    <rmk></rmk>\\n  </list>\\n  <list>\\n    <crp_cls>Y</crp_cls>\\n    <crp_nm>삼성전자</crp_nm>\\n    <crp_cd>005930</crp_cd>\\n    <rpt_nm>[첨부추가]사업보고서 (2000.12)</rpt_nm>\\n    <rcp_no>20010331000297</rcp_no>\\n    <flr_nm>삼성전자</flr_nm>\\n    <rcp_dt>20010331</rcp_dt>\\n    <rmk>연</rmk>\\n  </list>\\n  <list>\\n    <crp_cls>Y</crp_cls>\\n    <crp_nm>삼성전자</crp_nm>\\n    <crp_cd>005930</crp_cd>\\n    <rpt_nm>분기보고서 (2000.09)</rpt_nm>\\n    <rcp_no>20001114000729</rcp_no>\\n    <flr_nm>삼성전자</flr_nm>\\n    <rcp_dt>20001114</rcp_dt>\\n    <rmk></rmk>\\n  </list>\\n  <list>\\n    <crp_cls>Y</crp_cls>\\n    <crp_nm>삼성전자</crp_nm>\\n    <crp_cd>005930</crp_cd>\\n    <rpt_nm>반기보고서 (2000.06)</rpt_nm>\\n    <rcp_no>20000814000482</rcp_no>\\n    <flr_nm>삼성전자</flr_nm>\\n    <rcp_dt>20000814</rcp_dt>\\n    <rmk></rmk>\\n  </list>\\n  <list>\\n    <crp_cls>Y</crp_cls>\\n    <crp_nm>삼성전자</crp_nm>\\n    <crp_cd>005930</crp_cd>\\n    <rpt_nm>분기보고서 (2000.03)</rpt_nm>\\n    <rcp_no>20000515000739</rcp_no>\\n    <flr_nm>삼성전자</flr_nm>\\n    <rcp_dt>20000515</rcp_dt>\\n    <rmk></rmk>\\n  </list>\\n  <list>\\n    <crp_cls>Y</crp_cls>\\n    <crp_nm>삼성전자</crp_nm>\\n    <crp_cd>005930</crp_cd>\\n    <rpt_nm>[첨부추가]사업보고서 (1999.12)</rpt_nm>\\n    <rcp_no>20000330000796</rcp_no>\\n    <flr_nm>삼성전자</flr_nm>\\n    <rcp_dt>20000330</rcp_dt>\\n    <rmk>연</rmk>\\n  </list>\\n  <list>\\n    <crp_cls>Y</crp_cls>\\n    <crp_nm>삼성전자</crp_nm>\\n    <crp_cd>005930</crp_cd>\\n    <rpt_nm>[기재정정]반기보고서 (1999.06)</rpt_nm>\\n    <rcp_no>19990824000003</rcp_no>\\n    <flr_nm>삼성전자</flr_nm>\\n    <rcp_dt>19990824</rcp_dt>\\n    <rmk></rmk>\\n  </list>\\n  <list>\\n    <crp_cls>Y</crp_cls>\\n    <crp_nm>삼성전자</crp_nm>\\n    <crp_cd>005930</crp_cd>\\n    <rpt_nm>반기보고서 (1999.06)</rpt_nm>\\n    <rcp_no>19990814000182</rcp_no>\\n    <flr_nm>삼성전자</flr_nm>\\n    <rcp_dt>19990814</rcp_dt>\\n    <rmk>정</rmk>\\n  </list>\\n  <list>\\n    <crp_cls>Y</crp_cls>\\n    <crp_nm>삼성전자</crp_nm>\\n    <crp_cd>005930</crp_cd>\\n    <rpt_nm>[기재정정]사업보고서 (1998.12)</rpt_nm>\\n    <rcp_no>19990626000007</rcp_no>\\n    <flr_nm>삼성전자</flr_nm>\\n    <rcp_dt>19990626</rcp_dt>\\n    <rmk>연</rmk>\\n  </list>\\n  <list>\\n    <crp_cls>Y</crp_cls>\\n    <crp_nm>삼성전자</crp_nm>\\n    <crp_cd>005930</crp_cd>\\n    <rpt_nm>사업보고서 (1998.12)</rpt_nm>\\n    <rcp_no>19990403000009</rcp_no>\\n    <flr_nm>삼성전자</flr_nm>\\n    <rcp_dt>19990403</rcp_dt>\\n    <rmk>정연</rmk>\\n  </list>\\n</result>'"
      ]
     },
     "execution_count": 4,
     "metadata": {},
     "output_type": "execute_result"
    }
   ],
   "source": [
    "webpage"
   ]
  },
  {
   "cell_type": "code",
   "execution_count": 5,
   "metadata": {},
   "outputs": [],
   "source": [
    "rcp_no_list = re.findall(r'<rcp_no>(.*?)</rcp_no>', webpage)"
   ]
  },
  {
   "cell_type": "code",
   "execution_count": 6,
   "metadata": {},
   "outputs": [],
   "source": [
    "period_list = re.findall(r'<rpt_nm>(.*?)</rpt_nm>', webpage)"
   ]
  },
  {
   "cell_type": "code",
   "execution_count": 7,
   "metadata": {},
   "outputs": [
    {
     "data": {
      "text/plain": [
       "{'하나': 'one', '둘': 'two'}"
      ]
     },
     "execution_count": 7,
     "metadata": {},
     "output_type": "execute_result"
    }
   ],
   "source": [
    "dict(zip(['하나','둘'], ['one', 'two']))"
   ]
  },
  {
   "cell_type": "code",
   "execution_count": 8,
   "metadata": {},
   "outputs": [
    {
     "data": {
      "text/plain": [
       "{'분기보고서 (2019.09)': '20191114001273',\n",
       " '반기보고서 (2019.06)': '20190814002218',\n",
       " '분기보고서 (2019.03)': '20190515001605',\n",
       " '사업보고서 (2018.12)': '20190401004781',\n",
       " '분기보고서 (2018.09)': '20181114001530',\n",
       " '반기보고서 (2018.06)': '20180814001113',\n",
       " '분기보고서 (2018.03)': '20180515001699',\n",
       " '사업보고서 (2017.12)': '20180402005019',\n",
       " '분기보고서 (2017.09)': '20171114001694',\n",
       " '반기보고서 (2017.06)': '20170814001832',\n",
       " '분기보고서 (2017.03)': '20170515003806',\n",
       " '사업보고서 (2016.12)': '20170331004518',\n",
       " '분기보고서 (2016.09)': '20161114001491',\n",
       " '반기보고서 (2016.06)': '20160816001779',\n",
       " '분기보고서 (2016.03)': '20160516003174',\n",
       " '사업보고서 (2015.12)': '20160330003536',\n",
       " '분기보고서 (2015.09)': '20151116000976',\n",
       " '반기보고서 (2015.06)': '20150817000859',\n",
       " '분기보고서 (2015.03)': '20150515001379',\n",
       " '사업보고서 (2014.12)': '20150331002915',\n",
       " '분기보고서 (2014.09)': '20141114000755',\n",
       " '반기보고서 (2014.06)': '20140814000743',\n",
       " '분기보고서 (2014.03)': '20140515001057',\n",
       " '사업보고서 (2013.12)': '20140331002427',\n",
       " '분기보고서 (2013.09)': '20131114000520',\n",
       " '반기보고서 (2013.06)': '20130814000618',\n",
       " '분기보고서 (2013.03)': '20130515000677',\n",
       " '사업보고서 (2012.12)': '20130401003031',\n",
       " '분기보고서 (2012.09)': '20121114000975',\n",
       " '반기보고서 (2012.06)': '20120814001232',\n",
       " '분기보고서 (2012.03)': '20120515001281',\n",
       " '[첨부추가]사업보고서 (2011.12)': '20120330002110',\n",
       " '분기보고서 (2011.09)': '20111129000501',\n",
       " '[기재정정]반기보고서 (2011.06)': '20110916000072',\n",
       " '반기보고서 (2011.06)': '20110829000539',\n",
       " '분기보고서 (2011.03)': '20110530000628',\n",
       " '[첨부추가]사업보고서 (2010.12)': '20110331002193',\n",
       " '분기보고서 (2010.09)': '20101129000419',\n",
       " '반기보고서 (2010.06)': '20100830000360',\n",
       " '분기보고서 (2010.03)': '20100531001169',\n",
       " '[첨부추가]사업보고서 (2009.12)': '20100331001680',\n",
       " '분기보고서 (2009.09)': '20091116000492',\n",
       " '반기보고서 (2009.06)': '20090814001311',\n",
       " '분기보고서 (2009.03)': '20090515001705',\n",
       " '[첨부추가]사업보고서 (2008.12)': '20090331002550',\n",
       " '분기보고서 (2008.09)': '20081114000862',\n",
       " '반기보고서 (2008.06)': '20080814001491',\n",
       " '분기보고서 (2008.03)': '20080515001670',\n",
       " '[첨부추가]사업보고서 (2007.12)': '20080331002164',\n",
       " '분기보고서 (2007.09)': '20071114001227',\n",
       " '반기보고서 (2007.06)': '20070814001689',\n",
       " '분기보고서 (2007.03)': '20070515001702',\n",
       " '[첨부추가]사업보고서 (2006.12)': '20070330001989',\n",
       " '분기보고서 (2006.09)': '20061114001806',\n",
       " '[첨부정정]반기보고서 (2006.06)': '20060822000056',\n",
       " '반기보고서 (2006.06)': '20060814001131',\n",
       " '분기보고서 (2006.03)': '20060515002848',\n",
       " '[첨부추가]사업보고서 (2005.12)': '20060331001832',\n",
       " '분기보고서 (2005.09)': '20051114001373',\n",
       " '반기보고서 (2005.06)': '20050816000742',\n",
       " '분기보고서 (2005.03)': '20050513002190',\n",
       " '[첨부추가]사업보고서 (2004.12)': '20050331002046',\n",
       " '분기보고서 (2004.09)': '20041115001020',\n",
       " '반기보고서 (2004.06)': '20040813001132',\n",
       " '분기보고서 (2004.03)': '20040514002876',\n",
       " '[첨부추가]사업보고서 (2003.12)': '20040330001899',\n",
       " '분기보고서 (2003.09)': '20031114001124',\n",
       " '반기보고서 (2003.06)': '20030813000500',\n",
       " '분기보고서 (2003.03)': '20030515000631',\n",
       " '[기재정정]사업보고서 (2002.12)': '20030407000694',\n",
       " '[첨부추가]사업보고서 (2002.12)': '20030331001534',\n",
       " '분기보고서 (2002.09)': '20021114000256',\n",
       " '반기보고서 (2002.06)': '20020814000096',\n",
       " '분기보고서 (2002.03)': '20020515000772',\n",
       " '[첨부추가]사업보고서 (2001.12)': '20020401001077',\n",
       " '분기보고서 (2001.09)': '20011114000621',\n",
       " '반기보고서 (2001.06)': '20010814001128',\n",
       " '분기보고서 (2001.03)': '20010515000548',\n",
       " '[첨부추가]사업보고서 (2000.12)': '20010331000297',\n",
       " '분기보고서 (2000.09)': '20001114000729',\n",
       " '반기보고서 (2000.06)': '20000814000482',\n",
       " '분기보고서 (2000.03)': '20000515000739',\n",
       " '[첨부추가]사업보고서 (1999.12)': '20000330000796',\n",
       " '[기재정정]반기보고서 (1999.06)': '19990824000003',\n",
       " '반기보고서 (1999.06)': '19990814000182',\n",
       " '[기재정정]사업보고서 (1998.12)': '19990626000007',\n",
       " '사업보고서 (1998.12)': '19990403000009'}"
      ]
     },
     "execution_count": 8,
     "metadata": {},
     "output_type": "execute_result"
    }
   ],
   "source": [
    "dict(zip(period_list, rcp_no_list))"
   ]
  },
  {
   "cell_type": "markdown",
   "metadata": {},
   "source": [
    "<h1>rcp_no를 이용하여 공시뷰어 열고, dcm_no list 구하기</h1>\n",
    "\n",
    "<p>'http://dart.fss.or.kr/dsaf001/main.do?rcpNo={}'.format(rcp_no)</p>"
   ]
  },
  {
   "cell_type": "code",
   "execution_count": 9,
   "metadata": {},
   "outputs": [],
   "source": [
    "dcm_no_list = []\n",
    "for rcp_no in rcp_no_list:\n",
    "    resp = requests.get('http://dart.fss.or.kr/dsaf001/main.do?rcpNo={}'.format(rcp_no))\n",
    "    webpage = resp.content.decode('utf-8')\n",
    "    dcm_no = re.findall(r\"'{}', '(.*?)',\".format(rcp_no), webpage)[0]\n",
    "    dcm_no_list.append(dcm_no)"
   ]
  },
  {
   "cell_type": "code",
   "execution_count": 10,
   "metadata": {},
   "outputs": [
    {
     "data": {
      "text/plain": [
       "['6958001',\n",
       " '6846651',\n",
       " '6738798',\n",
       " '6616741',\n",
       " '6382016',\n",
       " '6282263',\n",
       " '6180129',\n",
       " '6060273',\n",
       " '5845320',\n",
       " '5752868',\n",
       " '5653406',\n",
       " '5540271',\n",
       " '5349987',\n",
       " '5261457',\n",
       " '5146351',\n",
       " '5026126',\n",
       " '4854164',\n",
       " '4770098',\n",
       " '4669876',\n",
       " '4556583',\n",
       " '4384460',\n",
       " '4299541',\n",
       " '4215971',\n",
       " '4114631',\n",
       " '3952512',\n",
       " '3875930',\n",
       " '3803552',\n",
       " '3714646',\n",
       " '3560249',\n",
       " '3493599',\n",
       " '3422441',\n",
       " '3332300',\n",
       " '3207134',\n",
       " '3151930',\n",
       " '3138683',\n",
       " '3067153',\n",
       " '2965731',\n",
       " '2831348',\n",
       " '2762561',\n",
       " '2695124',\n",
       " '2591647',\n",
       " '2455237',\n",
       " '2384079',\n",
       " '2309913',\n",
       " '2191599',\n",
       " '2055378',\n",
       " '2003746',\n",
       " '1944550',\n",
       " '1864870',\n",
       " '1751900',\n",
       " '1700372',\n",
       " '1644600',\n",
       " '1574002',\n",
       " '1471142',\n",
       " '1432656',\n",
       " '1429298',\n",
       " '1383787',\n",
       " '1321907',\n",
       " '1202395',\n",
       " '1156947',\n",
       " '1104240',\n",
       " '1049370',\n",
       " '947352',\n",
       " '908765',\n",
       " '863843',\n",
       " '809100',\n",
       " '703011',\n",
       " '660953',\n",
       " '618045',\n",
       " '582896',\n",
       " '570539',\n",
       " '469435',\n",
       " '431170',\n",
       " '396273',\n",
       " '353722',\n",
       " '263890',\n",
       " '237424',\n",
       " '206571',\n",
       " '178927',\n",
       " '113424',\n",
       " '89871',\n",
       " '60524',\n",
       " '41243',\n",
       " '22086',\n",
       " '21070',\n",
       " '15402',\n",
       " '9586']"
      ]
     },
     "execution_count": 10,
     "metadata": {},
     "output_type": "execute_result"
    }
   ],
   "source": [
    "dcm_no_list"
   ]
  },
  {
   "cell_type": "code",
   "execution_count": 11,
   "metadata": {},
   "outputs": [],
   "source": [
    "user_agent = \"Mozilla/5.0 (Windows NT 6.3; Win64; x64) AppleWebKit/537.36 (KHTML, like Gecko) Chrome/63.0.3239.132 Safari/537.36\"\n",
    "\n",
    "def download_excel(period, rcp_no, dcm_no):\n",
    "    url = \"http://dart.fss.or.kr/pdf/download/excel.do?rcp_no={}&dcm_no={}&lang=ko\".format(rcp_no,dcm_no)\n",
    "    resp = requests.get(url, headers={\"user-agent\": user_agent})\n",
    "    table = BytesIO(resp.content)\n",
    "    for sheet in [\"연결 재무상태표\", \"연결 손익계산서\", \"연결 포괄손익계산서\"]:\n",
    "        data = pd.read_excel(table, sheet_name=sheet, skiprows=5)\n",
    "        data.to_csv(\"삼성전자_{}_{}.csv\".format(period, sheet), encoding=\"euc-kr\")"
   ]
  },
  {
   "cell_type": "code",
   "execution_count": 12,
   "metadata": {},
   "outputs": [
    {
     "ename": "TypeError",
     "evalue": "expected str, bytes or os.PathLike object, not NoneType",
     "output_type": "error",
     "traceback": [
      "\u001b[1;31m---------------------------------------------------------------------------\u001b[0m",
      "\u001b[1;31mTypeError\u001b[0m                                 Traceback (most recent call last)",
      "\u001b[1;32m<ipython-input-12-1ff7d6a5a57f>\u001b[0m in \u001b[0;36m<module>\u001b[1;34m()\u001b[0m\n\u001b[0;32m      1\u001b[0m \u001b[1;32mfor\u001b[0m \u001b[0mperiod\u001b[0m\u001b[1;33m,\u001b[0m \u001b[0mrcp_no\u001b[0m\u001b[1;33m,\u001b[0m \u001b[0mdcm_no\u001b[0m \u001b[1;32min\u001b[0m \u001b[0mzip\u001b[0m\u001b[1;33m(\u001b[0m\u001b[0mperiod_list\u001b[0m\u001b[1;33m,\u001b[0m \u001b[0mrcp_no_list\u001b[0m\u001b[1;33m,\u001b[0m \u001b[0mdcm_no_list\u001b[0m\u001b[1;33m)\u001b[0m\u001b[1;33m:\u001b[0m\u001b[1;33m\u001b[0m\u001b[0m\n\u001b[1;32m----> 2\u001b[1;33m     \u001b[0mdownload_excel\u001b[0m\u001b[1;33m(\u001b[0m\u001b[0mperiod\u001b[0m\u001b[1;33m,\u001b[0m \u001b[0mrcp_no\u001b[0m\u001b[1;33m,\u001b[0m \u001b[0mdcm_no\u001b[0m\u001b[1;33m)\u001b[0m\u001b[1;33m\u001b[0m\u001b[0m\n\u001b[0m",
      "\u001b[1;32m<ipython-input-11-0d2c503ce78e>\u001b[0m in \u001b[0;36mdownload_excel\u001b[1;34m(period, rcp_no, dcm_no)\u001b[0m\n\u001b[0;32m      6\u001b[0m     \u001b[0mtable\u001b[0m \u001b[1;33m=\u001b[0m \u001b[0mBytesIO\u001b[0m\u001b[1;33m(\u001b[0m\u001b[0mresp\u001b[0m\u001b[1;33m.\u001b[0m\u001b[0mcontent\u001b[0m\u001b[1;33m)\u001b[0m\u001b[1;33m\u001b[0m\u001b[0m\n\u001b[0;32m      7\u001b[0m     \u001b[1;32mfor\u001b[0m \u001b[0msheet\u001b[0m \u001b[1;32min\u001b[0m \u001b[1;33m[\u001b[0m\u001b[1;34m\"연결 재무상태표\"\u001b[0m\u001b[1;33m,\u001b[0m \u001b[1;34m\"연결 손익계산서\"\u001b[0m\u001b[1;33m,\u001b[0m \u001b[1;34m\"연결 포괄손익계산서\"\u001b[0m\u001b[1;33m]\u001b[0m\u001b[1;33m:\u001b[0m\u001b[1;33m\u001b[0m\u001b[0m\n\u001b[1;32m----> 8\u001b[1;33m         \u001b[0mdata\u001b[0m \u001b[1;33m=\u001b[0m \u001b[0mpd\u001b[0m\u001b[1;33m.\u001b[0m\u001b[0mread_excel\u001b[0m\u001b[1;33m(\u001b[0m\u001b[0mtable\u001b[0m\u001b[1;33m,\u001b[0m \u001b[0msheet_name\u001b[0m\u001b[1;33m=\u001b[0m\u001b[0msheet\u001b[0m\u001b[1;33m,\u001b[0m \u001b[0mskiprows\u001b[0m\u001b[1;33m=\u001b[0m\u001b[1;36m5\u001b[0m\u001b[1;33m)\u001b[0m\u001b[1;33m\u001b[0m\u001b[0m\n\u001b[0m\u001b[0;32m      9\u001b[0m         \u001b[0mdata\u001b[0m\u001b[1;33m.\u001b[0m\u001b[0mto_csv\u001b[0m\u001b[1;33m(\u001b[0m\u001b[1;34m\"삼성전자_{}_{}.csv\"\u001b[0m\u001b[1;33m.\u001b[0m\u001b[0mformat\u001b[0m\u001b[1;33m(\u001b[0m\u001b[0mperiod\u001b[0m\u001b[1;33m,\u001b[0m \u001b[0msheet\u001b[0m\u001b[1;33m)\u001b[0m\u001b[1;33m,\u001b[0m \u001b[0mencoding\u001b[0m\u001b[1;33m=\u001b[0m\u001b[1;34m\"euc-kr\"\u001b[0m\u001b[1;33m)\u001b[0m\u001b[1;33m\u001b[0m\u001b[0m\n",
      "\u001b[1;32m~\\Anaconda3\\lib\\site-packages\\pandas\\util\\_decorators.py\u001b[0m in \u001b[0;36mwrapper\u001b[1;34m(*args, **kwargs)\u001b[0m\n\u001b[0;32m    176\u001b[0m                 \u001b[1;32melse\u001b[0m\u001b[1;33m:\u001b[0m\u001b[1;33m\u001b[0m\u001b[0m\n\u001b[0;32m    177\u001b[0m                     \u001b[0mkwargs\u001b[0m\u001b[1;33m[\u001b[0m\u001b[0mnew_arg_name\u001b[0m\u001b[1;33m]\u001b[0m \u001b[1;33m=\u001b[0m \u001b[0mnew_arg_value\u001b[0m\u001b[1;33m\u001b[0m\u001b[0m\n\u001b[1;32m--> 178\u001b[1;33m             \u001b[1;32mreturn\u001b[0m \u001b[0mfunc\u001b[0m\u001b[1;33m(\u001b[0m\u001b[1;33m*\u001b[0m\u001b[0margs\u001b[0m\u001b[1;33m,\u001b[0m \u001b[1;33m**\u001b[0m\u001b[0mkwargs\u001b[0m\u001b[1;33m)\u001b[0m\u001b[1;33m\u001b[0m\u001b[0m\n\u001b[0m\u001b[0;32m    179\u001b[0m         \u001b[1;32mreturn\u001b[0m \u001b[0mwrapper\u001b[0m\u001b[1;33m\u001b[0m\u001b[0m\n\u001b[0;32m    180\u001b[0m     \u001b[1;32mreturn\u001b[0m \u001b[0m_deprecate_kwarg\u001b[0m\u001b[1;33m\u001b[0m\u001b[0m\n",
      "\u001b[1;32m~\\Anaconda3\\lib\\site-packages\\pandas\\util\\_decorators.py\u001b[0m in \u001b[0;36mwrapper\u001b[1;34m(*args, **kwargs)\u001b[0m\n\u001b[0;32m    176\u001b[0m                 \u001b[1;32melse\u001b[0m\u001b[1;33m:\u001b[0m\u001b[1;33m\u001b[0m\u001b[0m\n\u001b[0;32m    177\u001b[0m                     \u001b[0mkwargs\u001b[0m\u001b[1;33m[\u001b[0m\u001b[0mnew_arg_name\u001b[0m\u001b[1;33m]\u001b[0m \u001b[1;33m=\u001b[0m \u001b[0mnew_arg_value\u001b[0m\u001b[1;33m\u001b[0m\u001b[0m\n\u001b[1;32m--> 178\u001b[1;33m             \u001b[1;32mreturn\u001b[0m \u001b[0mfunc\u001b[0m\u001b[1;33m(\u001b[0m\u001b[1;33m*\u001b[0m\u001b[0margs\u001b[0m\u001b[1;33m,\u001b[0m \u001b[1;33m**\u001b[0m\u001b[0mkwargs\u001b[0m\u001b[1;33m)\u001b[0m\u001b[1;33m\u001b[0m\u001b[0m\n\u001b[0m\u001b[0;32m    179\u001b[0m         \u001b[1;32mreturn\u001b[0m \u001b[0mwrapper\u001b[0m\u001b[1;33m\u001b[0m\u001b[0m\n\u001b[0;32m    180\u001b[0m     \u001b[1;32mreturn\u001b[0m \u001b[0m_deprecate_kwarg\u001b[0m\u001b[1;33m\u001b[0m\u001b[0m\n",
      "\u001b[1;32m~\\Anaconda3\\lib\\site-packages\\pandas\\io\\excel.py\u001b[0m in \u001b[0;36mread_excel\u001b[1;34m(io, sheet_name, header, names, index_col, usecols, squeeze, dtype, engine, converters, true_values, false_values, skiprows, nrows, na_values, parse_dates, date_parser, thousands, comment, skipfooter, convert_float, **kwds)\u001b[0m\n\u001b[0;32m    305\u001b[0m \u001b[1;33m\u001b[0m\u001b[0m\n\u001b[0;32m    306\u001b[0m     \u001b[1;32mif\u001b[0m \u001b[1;32mnot\u001b[0m \u001b[0misinstance\u001b[0m\u001b[1;33m(\u001b[0m\u001b[0mio\u001b[0m\u001b[1;33m,\u001b[0m \u001b[0mExcelFile\u001b[0m\u001b[1;33m)\u001b[0m\u001b[1;33m:\u001b[0m\u001b[1;33m\u001b[0m\u001b[0m\n\u001b[1;32m--> 307\u001b[1;33m         \u001b[0mio\u001b[0m \u001b[1;33m=\u001b[0m \u001b[0mExcelFile\u001b[0m\u001b[1;33m(\u001b[0m\u001b[0mio\u001b[0m\u001b[1;33m,\u001b[0m \u001b[0mengine\u001b[0m\u001b[1;33m=\u001b[0m\u001b[0mengine\u001b[0m\u001b[1;33m)\u001b[0m\u001b[1;33m\u001b[0m\u001b[0m\n\u001b[0m\u001b[0;32m    308\u001b[0m \u001b[1;33m\u001b[0m\u001b[0m\n\u001b[0;32m    309\u001b[0m     return io.parse(\n",
      "\u001b[1;32m~\\Anaconda3\\lib\\site-packages\\pandas\\io\\excel.py\u001b[0m in \u001b[0;36m__init__\u001b[1;34m(self, io, **kwds)\u001b[0m\n\u001b[0;32m    390\u001b[0m \u001b[1;33m\u001b[0m\u001b[0m\n\u001b[0;32m    391\u001b[0m             \u001b[0mdata\u001b[0m \u001b[1;33m=\u001b[0m \u001b[0mio\u001b[0m\u001b[1;33m.\u001b[0m\u001b[0mread\u001b[0m\u001b[1;33m(\u001b[0m\u001b[1;33m)\u001b[0m\u001b[1;33m\u001b[0m\u001b[0m\n\u001b[1;32m--> 392\u001b[1;33m             \u001b[0mself\u001b[0m\u001b[1;33m.\u001b[0m\u001b[0mbook\u001b[0m \u001b[1;33m=\u001b[0m \u001b[0mxlrd\u001b[0m\u001b[1;33m.\u001b[0m\u001b[0mopen_workbook\u001b[0m\u001b[1;33m(\u001b[0m\u001b[0mfile_contents\u001b[0m\u001b[1;33m=\u001b[0m\u001b[0mdata\u001b[0m\u001b[1;33m)\u001b[0m\u001b[1;33m\u001b[0m\u001b[0m\n\u001b[0m\u001b[0;32m    393\u001b[0m         \u001b[1;32melif\u001b[0m \u001b[0misinstance\u001b[0m\u001b[1;33m(\u001b[0m\u001b[0mself\u001b[0m\u001b[1;33m.\u001b[0m\u001b[0m_io\u001b[0m\u001b[1;33m,\u001b[0m \u001b[0mcompat\u001b[0m\u001b[1;33m.\u001b[0m\u001b[0mstring_types\u001b[0m\u001b[1;33m)\u001b[0m\u001b[1;33m:\u001b[0m\u001b[1;33m\u001b[0m\u001b[0m\n\u001b[0;32m    394\u001b[0m             \u001b[0mself\u001b[0m\u001b[1;33m.\u001b[0m\u001b[0mbook\u001b[0m \u001b[1;33m=\u001b[0m \u001b[0mxlrd\u001b[0m\u001b[1;33m.\u001b[0m\u001b[0mopen_workbook\u001b[0m\u001b[1;33m(\u001b[0m\u001b[0mself\u001b[0m\u001b[1;33m.\u001b[0m\u001b[0m_io\u001b[0m\u001b[1;33m)\u001b[0m\u001b[1;33m\u001b[0m\u001b[0m\n",
      "\u001b[1;32m~\\Anaconda3\\lib\\site-packages\\xlrd\\__init__.py\u001b[0m in \u001b[0;36mopen_workbook\u001b[1;34m(filename, logfile, verbosity, use_mmap, file_contents, encoding_override, formatting_info, on_demand, ragged_rows)\u001b[0m\n\u001b[0;32m    114\u001b[0m         \u001b[0mpeek\u001b[0m \u001b[1;33m=\u001b[0m \u001b[0mfile_contents\u001b[0m\u001b[1;33m[\u001b[0m\u001b[1;33m:\u001b[0m\u001b[0mpeeksz\u001b[0m\u001b[1;33m]\u001b[0m\u001b[1;33m\u001b[0m\u001b[0m\n\u001b[0;32m    115\u001b[0m     \u001b[1;32melse\u001b[0m\u001b[1;33m:\u001b[0m\u001b[1;33m\u001b[0m\u001b[0m\n\u001b[1;32m--> 116\u001b[1;33m         \u001b[1;32mwith\u001b[0m \u001b[0mopen\u001b[0m\u001b[1;33m(\u001b[0m\u001b[0mfilename\u001b[0m\u001b[1;33m,\u001b[0m \u001b[1;34m\"rb\"\u001b[0m\u001b[1;33m)\u001b[0m \u001b[1;32mas\u001b[0m \u001b[0mf\u001b[0m\u001b[1;33m:\u001b[0m\u001b[1;33m\u001b[0m\u001b[0m\n\u001b[0m\u001b[0;32m    117\u001b[0m             \u001b[0mpeek\u001b[0m \u001b[1;33m=\u001b[0m \u001b[0mf\u001b[0m\u001b[1;33m.\u001b[0m\u001b[0mread\u001b[0m\u001b[1;33m(\u001b[0m\u001b[0mpeeksz\u001b[0m\u001b[1;33m)\u001b[0m\u001b[1;33m\u001b[0m\u001b[0m\n\u001b[0;32m    118\u001b[0m     \u001b[1;32mif\u001b[0m \u001b[0mpeek\u001b[0m \u001b[1;33m==\u001b[0m \u001b[1;34mb\"PK\\x03\\x04\"\u001b[0m\u001b[1;33m:\u001b[0m \u001b[1;31m# a ZIP file\u001b[0m\u001b[1;33m\u001b[0m\u001b[0m\n",
      "\u001b[1;31mTypeError\u001b[0m: expected str, bytes or os.PathLike object, not NoneType"
     ]
    }
   ],
   "source": [
    "for period, rcp_no, dcm_no in zip(period_list, rcp_no_list, dcm_no_list):\n",
    "    download_excel(period, rcp_no, dcm_no)"
   ]
  },
  {
   "cell_type": "code",
   "execution_count": null,
   "metadata": {},
   "outputs": [],
   "source": []
  }
 ],
 "metadata": {
  "kernelspec": {
   "display_name": "Python 3",
   "language": "python",
   "name": "python3"
  },
  "language_info": {
   "codemirror_mode": {
    "name": "ipython",
    "version": 3
   },
   "file_extension": ".py",
   "mimetype": "text/x-python",
   "name": "python",
   "nbconvert_exporter": "python",
   "pygments_lexer": "ipython3",
   "version": "3.7.0"
  }
 },
 "nbformat": 4,
 "nbformat_minor": 2
}
