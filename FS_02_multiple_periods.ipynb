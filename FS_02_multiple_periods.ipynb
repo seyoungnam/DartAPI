{
 "cells": [
  {
   "cell_type": "code",
   "execution_count": 45,
   "metadata": {},
   "outputs": [],
   "source": [
    "# 여러기간의 재무제표\n",
    "import requests\n",
    "from io import BytesIO\n",
    "import pandas as pd"
   ]
  },
  {
   "cell_type": "code",
   "execution_count": 40,
   "metadata": {},
   "outputs": [],
   "source": [
    "url_1906 = \"http://dart.fss.or.kr/pdf/download/excel.do?rcp_no=20190814002218&dcm_no=6846651&lang=ko\"\n",
    "url_1812 = \"http://dart.fss.or.kr/pdf/download/excel.do?rcp_no=20190401004781&dcm_no=6616741&lang=ko\"\n",
    "user_agent = \"Mozilla/5.0 (Windows NT 6.3; Win64; x64) AppleWebKit/537.36 (KHTML, like Gecko) Chrome/63.0.3239.132 Safari/537.36\"\n"
   ]
  },
  {
   "cell_type": "code",
   "execution_count": 49,
   "metadata": {},
   "outputs": [],
   "source": [
    "pocket = [\"연결 재무상태표\", \"연결 손익계산서\", \"연결 포괄손익계산서\", \"연결 자본변동표\", \"연결 현금흐름표\"]\n",
    "url_set = [url_1812, url_1906]\n",
    "\n",
    "for period, url in zip([\"1812\", \"1906\"], url_set):\n",
    "    resp = requests.get(url, headers={\"user-agent\": user_agent})\n",
    "    table = BytesIO(resp.content)\n",
    "    \n",
    "    for sheet in pocket:\n",
    "        data = pd.read_excel(table, sheet_name=sheet, skiprows=5)\n",
    "        data.to_csv(period + \"_\" + sheet + \".csv\", encoding=\"euc-kr\")"
   ]
  }
 ],
 "metadata": {
  "kernelspec": {
   "display_name": "Python 3",
   "language": "python",
   "name": "python3"
  },
  "language_info": {
   "codemirror_mode": {
    "name": "ipython",
    "version": 3
   },
   "file_extension": ".py",
   "mimetype": "text/x-python",
   "name": "python",
   "nbconvert_exporter": "python",
   "pygments_lexer": "ipython3",
   "version": "3.7.0"
  }
 },
 "nbformat": 4,
 "nbformat_minor": 2
}
