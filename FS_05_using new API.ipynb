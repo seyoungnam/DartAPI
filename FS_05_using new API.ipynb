{
 "cells": [
  {
   "cell_type": "markdown",
   "metadata": {},
   "source": [
    "<h1>API로 특정기업(삼성전자)의 모든 rcp_no(접수번호) 구하기</h1>\n",
    "\n",
    "<p>'https://opendart.fss.or.kr/api/list.xml?crtfc_key={}&corp_code={}&bgn_de=20100101&end_de=20200303&last_reprt_at=Y&pblntf_detail_ty=A001&pblntf_detail_ty=A002&pblntf_detail_ty=A003&page_no=1&page_count=10'.format(api_key,corp_code)</p>\n",
    "\n",
    "<p>re.findall(r'<rcept_no>(.*?)</rcept_no>', webpage)</p>"
   ]
  },
  {
   "cell_type": "code",
   "execution_count": 22,
   "metadata": {},
   "outputs": [],
   "source": [
    "api_key = '27d86452b033fe973df6f1c980c37a2586801a1a'\n",
    "corp_code = '00126380' # 삼성전자 corp_code\n",
    "\n",
    "url = 'https://opendart.fss.or.kr/api/list.xml?crtfc_key={}&corp_code={}&bgn_de=20100101&end_de=20200303&last_reprt_at=Y&pblntf_detail_ty=A001&pblntf_detail_ty=A002&pblntf_detail_ty=A003&page_no=1&page_count=10'.format(api_key,corp_code)"
   ]
  },
  {
   "cell_type": "code",
   "execution_count": 23,
   "metadata": {},
   "outputs": [],
   "source": [
    "import requests\n",
    "from io import BytesIO\n",
    "import pandas as pd\n",
    "import re"
   ]
  },
  {
   "cell_type": "code",
   "execution_count": 24,
   "metadata": {},
   "outputs": [],
   "source": [
    "resp = requests.get(url)\n",
    "webpage = resp.content.decode('UTF-8')"
   ]
  },
  {
   "cell_type": "code",
   "execution_count": 25,
   "metadata": {},
   "outputs": [
    {
     "data": {
      "text/plain": [
       "'<?xml version=\"1.0\" encoding=\"UTF-8\" standalone=\"yes\"?><result><status>000</status><message>정상</message><page_no>1</page_no><page_count>10</page_count><total_count>40</total_count><total_page>4</total_page><list><corp_code>00126380</corp_code><corp_name>삼성전자</corp_name><stock_code>005930</stock_code><corp_cls>Y</corp_cls><report_nm>분기보고서 (2019.09)</report_nm><rcept_no>20191114001273</rcept_no><flr_nm>삼성전자</flr_nm><rcept_dt>20191114</rcept_dt><rm></rm></list><list><corp_code>00126380</corp_code><corp_name>삼성전자</corp_name><stock_code>005930</stock_code><corp_cls>Y</corp_cls><report_nm>반기보고서 (2019.06)</report_nm><rcept_no>20190814002218</rcept_no><flr_nm>삼성전자</flr_nm><rcept_dt>20190814</rcept_dt><rm></rm></list><list><corp_code>00126380</corp_code><corp_name>삼성전자</corp_name><stock_code>005930</stock_code><corp_cls>Y</corp_cls><report_nm>분기보고서 (2019.03)</report_nm><rcept_no>20190515001605</rcept_no><flr_nm>삼성전자</flr_nm><rcept_dt>20190515</rcept_dt><rm></rm></list><list><corp_code>00126380</corp_code><corp_name>삼성전자</corp_name><stock_code>005930</stock_code><corp_cls>Y</corp_cls><report_nm>사업보고서 (2018.12)</report_nm><rcept_no>20190401004781</rcept_no><flr_nm>삼성전자</flr_nm><rcept_dt>20190401</rcept_dt><rm>연</rm></list><list><corp_code>00126380</corp_code><corp_name>삼성전자</corp_name><stock_code>005930</stock_code><corp_cls>Y</corp_cls><report_nm>분기보고서 (2018.09)</report_nm><rcept_no>20181114001530</rcept_no><flr_nm>삼성전자</flr_nm><rcept_dt>20181114</rcept_dt><rm></rm></list><list><corp_code>00126380</corp_code><corp_name>삼성전자</corp_name><stock_code>005930</stock_code><corp_cls>Y</corp_cls><report_nm>반기보고서 (2018.06)</report_nm><rcept_no>20180814001113</rcept_no><flr_nm>삼성전자</flr_nm><rcept_dt>20180814</rcept_dt><rm></rm></list><list><corp_code>00126380</corp_code><corp_name>삼성전자</corp_name><stock_code>005930</stock_code><corp_cls>Y</corp_cls><report_nm>분기보고서 (2018.03)</report_nm><rcept_no>20180515001699</rcept_no><flr_nm>삼성전자</flr_nm><rcept_dt>20180515</rcept_dt><rm></rm></list><list><corp_code>00126380</corp_code><corp_name>삼성전자</corp_name><stock_code>005930</stock_code><corp_cls>Y</corp_cls><report_nm>사업보고서 (2017.12)</report_nm><rcept_no>20180402005019</rcept_no><flr_nm>삼성전자</flr_nm><rcept_dt>20180402</rcept_dt><rm>연</rm></list><list><corp_code>00126380</corp_code><corp_name>삼성전자</corp_name><stock_code>005930</stock_code><corp_cls>Y</corp_cls><report_nm>분기보고서 (2017.09)</report_nm><rcept_no>20171114001694</rcept_no><flr_nm>삼성전자</flr_nm><rcept_dt>20171114</rcept_dt><rm></rm></list><list><corp_code>00126380</corp_code><corp_name>삼성전자</corp_name><stock_code>005930</stock_code><corp_cls>Y</corp_cls><report_nm>반기보고서 (2017.06)</report_nm><rcept_no>20170814001832</rcept_no><flr_nm>삼성전자</flr_nm><rcept_dt>20170814</rcept_dt><rm></rm></list></result>'"
      ]
     },
     "execution_count": 25,
     "metadata": {},
     "output_type": "execute_result"
    }
   ],
   "source": [
    "webpage"
   ]
  },
  {
   "cell_type": "code",
   "execution_count": 5,
   "metadata": {},
   "outputs": [],
   "source": [
    "rcp_no_list = re.findall(r'<rcept_no>(.*?)</rcept_no>', webpage)"
   ]
  },
  {
   "cell_type": "code",
   "execution_count": 6,
   "metadata": {},
   "outputs": [],
   "source": [
    "period_list = re.findall(r'<report_nm>(.*?)</report_nm>', webpage)"
   ]
  },
  {
   "cell_type": "code",
   "execution_count": 7,
   "metadata": {},
   "outputs": [
    {
     "data": {
      "text/plain": [
       "{'분기보고서 (2019.09)': '20191114001273',\n",
       " '반기보고서 (2019.06)': '20190814002218',\n",
       " '분기보고서 (2019.03)': '20190515001605',\n",
       " '사업보고서 (2018.12)': '20190401004781',\n",
       " '분기보고서 (2018.09)': '20181114001530',\n",
       " '반기보고서 (2018.06)': '20180814001113',\n",
       " '분기보고서 (2018.03)': '20180515001699',\n",
       " '사업보고서 (2017.12)': '20180402005019',\n",
       " '분기보고서 (2017.09)': '20171114001694',\n",
       " '반기보고서 (2017.06)': '20170814001832'}"
      ]
     },
     "execution_count": 7,
     "metadata": {},
     "output_type": "execute_result"
    }
   ],
   "source": [
    "dict(zip(period_list, rcp_no_list))"
   ]
  },
  {
   "cell_type": "markdown",
   "metadata": {},
   "source": [
    "<h1>rcp_no를 이용하여 공시뷰어 열고, dcm_no list 구하기</h1>\n",
    "\n",
    "<p>'http://dart.fss.or.kr/dsaf001/main.do?rcpNo={}'.format(rcp_no)</p>"
   ]
  },
  {
   "cell_type": "code",
   "execution_count": 8,
   "metadata": {},
   "outputs": [],
   "source": [
    "dcm_no_list = []\n",
    "for rcp_no in rcp_no_list:\n",
    "    resp = requests.get('http://dart.fss.or.kr/dsaf001/main.do?rcpNo={}'.format(rcp_no))\n",
    "    webpage = resp.content.decode('utf-8')\n",
    "    dcm_no = re.findall(r\"'{}', '(.*?)',\".format(rcp_no), webpage)[0]\n",
    "    dcm_no_list.append(dcm_no)"
   ]
  },
  {
   "cell_type": "code",
   "execution_count": 9,
   "metadata": {},
   "outputs": [
    {
     "data": {
      "text/plain": [
       "['6958001',\n",
       " '6846651',\n",
       " '6738798',\n",
       " '6616741',\n",
       " '6382016',\n",
       " '6282263',\n",
       " '6180129',\n",
       " '6060273',\n",
       " '5845320',\n",
       " '5752868']"
      ]
     },
     "execution_count": 9,
     "metadata": {},
     "output_type": "execute_result"
    }
   ],
   "source": [
    "dcm_no_list"
   ]
  },
  {
   "cell_type": "code",
   "execution_count": 11,
   "metadata": {},
   "outputs": [],
   "source": [
    "user_agent = \"Mozilla/5.0 (Windows NT 6.3; Win64; x64) AppleWebKit/537.36 (KHTML, like Gecko) Chrome/63.0.3239.132 Safari/537.36\"\n",
    "\n",
    "def download_excel(period, rcp_no, dcm_no):\n",
    "    url = \"http://dart.fss.or.kr/pdf/download/excel.do?rcp_no={}&dcm_no={}&lang=ko\".format(rcp_no,dcm_no)\n",
    "    resp = requests.get(url, headers={\"user-agent\": user_agent})\n",
    "    table = BytesIO(resp.content)\n",
    "    for sheet in [\"연결 재무상태표\", \"연결 손익계산서\", \"연결 포괄손익계산서\"]:\n",
    "        data = pd.read_excel(table, sheet_name=sheet, skiprows=5)\n",
    "        data.to_csv(\"csv/삼성전자_{}_{}.csv\".format(period, sheet), encoding=\"euc-kr\")"
   ]
  },
  {
   "cell_type": "code",
   "execution_count": 12,
   "metadata": {},
   "outputs": [],
   "source": [
    "for period, rcp_no, dcm_no in zip(period_list, rcp_no_list, dcm_no_list):\n",
    "    download_excel(period, rcp_no, dcm_no)"
   ]
  },
  {
   "cell_type": "markdown",
   "metadata": {},
   "source": [
    "<h1>Visualization</h1>"
   ]
  },
  {
   "cell_type": "code",
   "execution_count": 26,
   "metadata": {},
   "outputs": [],
   "source": [
    "import os"
   ]
  },
  {
   "cell_type": "code",
   "execution_count": 27,
   "metadata": {},
   "outputs": [
    {
     "data": {
      "text/plain": [
       "['삼성전자_반기보고서 (2017.06)_연결 손익계산서.csv',\n",
       " '삼성전자_반기보고서 (2017.06)_연결 재무상태표.csv',\n",
       " '삼성전자_반기보고서 (2017.06)_연결 포괄손익계산서.csv',\n",
       " '삼성전자_반기보고서 (2018.06)_연결 손익계산서.csv',\n",
       " '삼성전자_반기보고서 (2018.06)_연결 재무상태표.csv',\n",
       " '삼성전자_반기보고서 (2018.06)_연결 포괄손익계산서.csv',\n",
       " '삼성전자_반기보고서 (2019.06)_연결 손익계산서.csv',\n",
       " '삼성전자_반기보고서 (2019.06)_연결 재무상태표.csv',\n",
       " '삼성전자_반기보고서 (2019.06)_연결 포괄손익계산서.csv',\n",
       " '삼성전자_분기보고서 (2017.09)_연결 손익계산서.csv',\n",
       " '삼성전자_분기보고서 (2017.09)_연결 재무상태표.csv',\n",
       " '삼성전자_분기보고서 (2017.09)_연결 포괄손익계산서.csv',\n",
       " '삼성전자_분기보고서 (2018.03)_연결 손익계산서.csv',\n",
       " '삼성전자_분기보고서 (2018.03)_연결 재무상태표.csv',\n",
       " '삼성전자_분기보고서 (2018.03)_연결 포괄손익계산서.csv',\n",
       " '삼성전자_분기보고서 (2018.09)_연결 손익계산서.csv',\n",
       " '삼성전자_분기보고서 (2018.09)_연결 재무상태표.csv',\n",
       " '삼성전자_분기보고서 (2018.09)_연결 포괄손익계산서.csv',\n",
       " '삼성전자_분기보고서 (2019.03)_연결 손익계산서.csv',\n",
       " '삼성전자_분기보고서 (2019.03)_연결 재무상태표.csv',\n",
       " '삼성전자_분기보고서 (2019.03)_연결 포괄손익계산서.csv',\n",
       " '삼성전자_분기보고서 (2019.09)_연결 손익계산서.csv',\n",
       " '삼성전자_분기보고서 (2019.09)_연결 재무상태표.csv',\n",
       " '삼성전자_분기보고서 (2019.09)_연결 포괄손익계산서.csv',\n",
       " '삼성전자_사업보고서 (2017.12)_연결 손익계산서.csv',\n",
       " '삼성전자_사업보고서 (2017.12)_연결 재무상태표.csv',\n",
       " '삼성전자_사업보고서 (2017.12)_연결 포괄손익계산서.csv',\n",
       " '삼성전자_사업보고서 (2018.12)_연결 손익계산서.csv',\n",
       " '삼성전자_사업보고서 (2018.12)_연결 재무상태표.csv',\n",
       " '삼성전자_사업보고서 (2018.12)_연결 포괄손익계산서.csv']"
      ]
     },
     "execution_count": 27,
     "metadata": {},
     "output_type": "execute_result"
    }
   ],
   "source": [
    "os.listdir('./csv')"
   ]
  },
  {
   "cell_type": "code",
   "execution_count": 32,
   "metadata": {},
   "outputs": [
    {
     "data": {
      "text/html": [
       "<div>\n",
       "<style scoped>\n",
       "    .dataframe tbody tr th:only-of-type {\n",
       "        vertical-align: middle;\n",
       "    }\n",
       "\n",
       "    .dataframe tbody tr th {\n",
       "        vertical-align: top;\n",
       "    }\n",
       "\n",
       "    .dataframe thead th {\n",
       "        text-align: right;\n",
       "    }\n",
       "</style>\n",
       "<table border=\"1\" class=\"dataframe\">\n",
       "  <thead>\n",
       "    <tr style=\"text-align: right;\">\n",
       "      <th></th>\n",
       "      <th>Unnamed: 0</th>\n",
       "      <th></th>\n",
       "      <th>제 49 기 반기</th>\n",
       "      <th>Unnamed: 2</th>\n",
       "      <th>제 48 기 반기</th>\n",
       "      <th>Unnamed: 4</th>\n",
       "    </tr>\n",
       "  </thead>\n",
       "  <tbody>\n",
       "    <tr>\n",
       "      <th>0</th>\n",
       "      <td>0</td>\n",
       "      <td>NaN</td>\n",
       "      <td>3개월</td>\n",
       "      <td>누적</td>\n",
       "      <td>3개월</td>\n",
       "      <td>누적</td>\n",
       "    </tr>\n",
       "    <tr>\n",
       "      <th>1</th>\n",
       "      <td>1</td>\n",
       "      <td>당기순이익(손실)</td>\n",
       "      <td>11053851</td>\n",
       "      <td>18738205</td>\n",
       "      <td>5847393</td>\n",
       "      <td>11100196</td>\n",
       "    </tr>\n",
       "    <tr>\n",
       "      <th>2</th>\n",
       "      <td>2</td>\n",
       "      <td>기타포괄손익</td>\n",
       "      <td>2968436</td>\n",
       "      <td>-1963613</td>\n",
       "      <td>118124</td>\n",
       "      <td>-43071</td>\n",
       "    </tr>\n",
       "    <tr>\n",
       "      <th>3</th>\n",
       "      <td>3</td>\n",
       "      <td>후속적으로 당기손익으로 재분류되지 않는 포괄손익</td>\n",
       "      <td>-18945</td>\n",
       "      <td>-58159</td>\n",
       "      <td>-25992</td>\n",
       "      <td>-48412</td>\n",
       "    </tr>\n",
       "    <tr>\n",
       "      <th>4</th>\n",
       "      <td>4</td>\n",
       "      <td>순확정급여부채 재측정요소</td>\n",
       "      <td>-17753</td>\n",
       "      <td>-56851</td>\n",
       "      <td>-24262</td>\n",
       "      <td>-47045</td>\n",
       "    </tr>\n",
       "    <tr>\n",
       "      <th>5</th>\n",
       "      <td>5</td>\n",
       "      <td>관계기업 및 공동기업의 기타포괄손익에 대한 지분</td>\n",
       "      <td>-1192</td>\n",
       "      <td>-1308</td>\n",
       "      <td>-1730</td>\n",
       "      <td>-1367</td>\n",
       "    </tr>\n",
       "    <tr>\n",
       "      <th>6</th>\n",
       "      <td>6</td>\n",
       "      <td>후속적으로 당기손익으로 재분류되는 포괄손익</td>\n",
       "      <td>2987381</td>\n",
       "      <td>-1905454</td>\n",
       "      <td>144116</td>\n",
       "      <td>5341</td>\n",
       "    </tr>\n",
       "    <tr>\n",
       "      <th>7</th>\n",
       "      <td>7</td>\n",
       "      <td>매도가능금융자산평가손익</td>\n",
       "      <td>340151</td>\n",
       "      <td>505306</td>\n",
       "      <td>-44680</td>\n",
       "      <td>29915</td>\n",
       "    </tr>\n",
       "    <tr>\n",
       "      <th>8</th>\n",
       "      <td>8</td>\n",
       "      <td>관계기업 및 공동기업의 기타포괄손익에 대한 지분</td>\n",
       "      <td>69582</td>\n",
       "      <td>14230</td>\n",
       "      <td>-22907</td>\n",
       "      <td>-134849</td>\n",
       "    </tr>\n",
       "    <tr>\n",
       "      <th>9</th>\n",
       "      <td>9</td>\n",
       "      <td>해외사업장환산외환차이</td>\n",
       "      <td>2628939</td>\n",
       "      <td>-2380295</td>\n",
       "      <td>211703</td>\n",
       "      <td>110275</td>\n",
       "    </tr>\n",
       "    <tr>\n",
       "      <th>10</th>\n",
       "      <td>10</td>\n",
       "      <td>파생상품평가손익</td>\n",
       "      <td>-51291</td>\n",
       "      <td>-44695</td>\n",
       "      <td></td>\n",
       "      <td></td>\n",
       "    </tr>\n",
       "    <tr>\n",
       "      <th>11</th>\n",
       "      <td>11</td>\n",
       "      <td>총포괄손익</td>\n",
       "      <td>14022287</td>\n",
       "      <td>16774592</td>\n",
       "      <td>5965517</td>\n",
       "      <td>11057125</td>\n",
       "    </tr>\n",
       "    <tr>\n",
       "      <th>12</th>\n",
       "      <td>12</td>\n",
       "      <td>포괄손익의 귀속</td>\n",
       "      <td></td>\n",
       "      <td></td>\n",
       "      <td></td>\n",
       "      <td></td>\n",
       "    </tr>\n",
       "    <tr>\n",
       "      <th>13</th>\n",
       "      <td>13</td>\n",
       "      <td>지배기업 소유주지분</td>\n",
       "      <td>13675417</td>\n",
       "      <td>16266746</td>\n",
       "      <td>5956247</td>\n",
       "      <td>11026386</td>\n",
       "    </tr>\n",
       "    <tr>\n",
       "      <th>14</th>\n",
       "      <td>14</td>\n",
       "      <td>비지배지분</td>\n",
       "      <td>346870</td>\n",
       "      <td>507846</td>\n",
       "      <td>9270</td>\n",
       "      <td>30739</td>\n",
       "    </tr>\n",
       "  </tbody>\n",
       "</table>\n",
       "</div>"
      ],
      "text/plain": [
       "    Unnamed: 0                                     제 49 기 반기 Unnamed: 2  \\\n",
       "0            0                                 NaN       3개월         누적   \n",
       "1            1                           당기순이익(손실)  11053851   18738205   \n",
       "2            2                              기타포괄손익   2968436   -1963613   \n",
       "3            3          후속적으로 당기손익으로 재분류되지 않는 포괄손익    -18945     -58159   \n",
       "4            4                       순확정급여부채 재측정요소    -17753     -56851   \n",
       "5            5          관계기업 및 공동기업의 기타포괄손익에 대한 지분     -1192      -1308   \n",
       "6            6             후속적으로 당기손익으로 재분류되는 포괄손익   2987381   -1905454   \n",
       "7            7                        매도가능금융자산평가손익    340151     505306   \n",
       "8            8          관계기업 및 공동기업의 기타포괄손익에 대한 지분     69582      14230   \n",
       "9            9                         해외사업장환산외환차이   2628939   -2380295   \n",
       "10          10                            파생상품평가손익    -51291     -44695   \n",
       "11          11                               총포괄손익  14022287   16774592   \n",
       "12          12                            포괄손익의 귀속                        \n",
       "13          13                          지배기업 소유주지분  13675417   16266746   \n",
       "14          14                               비지배지분    346870     507846   \n",
       "\n",
       "   제 48 기 반기 Unnamed: 4  \n",
       "0        3개월         누적  \n",
       "1    5847393   11100196  \n",
       "2     118124     -43071  \n",
       "3     -25992     -48412  \n",
       "4     -24262     -47045  \n",
       "5      -1730      -1367  \n",
       "6     144116       5341  \n",
       "7     -44680      29915  \n",
       "8     -22907    -134849  \n",
       "9     211703     110275  \n",
       "10                       \n",
       "11   5965517   11057125  \n",
       "12                       \n",
       "13   5956247   11026386  \n",
       "14      9270      30739  "
      ]
     },
     "execution_count": 32,
     "metadata": {},
     "output_type": "execute_result"
    }
   ],
   "source": [
    "pd.read_csv('./csv/삼성전자_반기보고서 (2017.06)_연결 포괄손익계산서.csv', encoding='euc-kr', engine='python')"
   ]
  },
  {
   "cell_type": "code",
   "execution_count": 33,
   "metadata": {},
   "outputs": [],
   "source": [
    "df = pd.read_csv('./csv/삼성전자_반기보고서 (2017.06)_연결 포괄손익계산서.csv', encoding='euc-kr', engine='python')"
   ]
  },
  {
   "cell_type": "code",
   "execution_count": 34,
   "metadata": {},
   "outputs": [
    {
     "data": {
      "text/html": [
       "<div>\n",
       "<style scoped>\n",
       "    .dataframe tbody tr th:only-of-type {\n",
       "        vertical-align: middle;\n",
       "    }\n",
       "\n",
       "    .dataframe tbody tr th {\n",
       "        vertical-align: top;\n",
       "    }\n",
       "\n",
       "    .dataframe thead th {\n",
       "        text-align: right;\n",
       "    }\n",
       "</style>\n",
       "<table border=\"1\" class=\"dataframe\">\n",
       "  <thead>\n",
       "    <tr style=\"text-align: right;\">\n",
       "      <th></th>\n",
       "      <th>Unnamed: 0</th>\n",
       "      <th></th>\n",
       "      <th>제 49 기 반기</th>\n",
       "      <th>Unnamed: 2</th>\n",
       "      <th>제 48 기 반기</th>\n",
       "      <th>Unnamed: 4</th>\n",
       "    </tr>\n",
       "  </thead>\n",
       "  <tbody>\n",
       "    <tr>\n",
       "      <th>0</th>\n",
       "      <td>False</td>\n",
       "      <td>False</td>\n",
       "      <td>False</td>\n",
       "      <td>False</td>\n",
       "      <td>False</td>\n",
       "      <td>False</td>\n",
       "    </tr>\n",
       "    <tr>\n",
       "      <th>1</th>\n",
       "      <td>False</td>\n",
       "      <td>True</td>\n",
       "      <td>False</td>\n",
       "      <td>False</td>\n",
       "      <td>False</td>\n",
       "      <td>False</td>\n",
       "    </tr>\n",
       "    <tr>\n",
       "      <th>2</th>\n",
       "      <td>False</td>\n",
       "      <td>False</td>\n",
       "      <td>False</td>\n",
       "      <td>False</td>\n",
       "      <td>False</td>\n",
       "      <td>False</td>\n",
       "    </tr>\n",
       "    <tr>\n",
       "      <th>3</th>\n",
       "      <td>False</td>\n",
       "      <td>False</td>\n",
       "      <td>False</td>\n",
       "      <td>False</td>\n",
       "      <td>False</td>\n",
       "      <td>False</td>\n",
       "    </tr>\n",
       "    <tr>\n",
       "      <th>4</th>\n",
       "      <td>False</td>\n",
       "      <td>False</td>\n",
       "      <td>False</td>\n",
       "      <td>False</td>\n",
       "      <td>False</td>\n",
       "      <td>False</td>\n",
       "    </tr>\n",
       "    <tr>\n",
       "      <th>5</th>\n",
       "      <td>False</td>\n",
       "      <td>False</td>\n",
       "      <td>False</td>\n",
       "      <td>False</td>\n",
       "      <td>False</td>\n",
       "      <td>False</td>\n",
       "    </tr>\n",
       "    <tr>\n",
       "      <th>6</th>\n",
       "      <td>False</td>\n",
       "      <td>False</td>\n",
       "      <td>False</td>\n",
       "      <td>False</td>\n",
       "      <td>False</td>\n",
       "      <td>False</td>\n",
       "    </tr>\n",
       "    <tr>\n",
       "      <th>7</th>\n",
       "      <td>False</td>\n",
       "      <td>False</td>\n",
       "      <td>False</td>\n",
       "      <td>False</td>\n",
       "      <td>False</td>\n",
       "      <td>False</td>\n",
       "    </tr>\n",
       "    <tr>\n",
       "      <th>8</th>\n",
       "      <td>False</td>\n",
       "      <td>False</td>\n",
       "      <td>False</td>\n",
       "      <td>False</td>\n",
       "      <td>False</td>\n",
       "      <td>False</td>\n",
       "    </tr>\n",
       "    <tr>\n",
       "      <th>9</th>\n",
       "      <td>False</td>\n",
       "      <td>False</td>\n",
       "      <td>False</td>\n",
       "      <td>False</td>\n",
       "      <td>False</td>\n",
       "      <td>False</td>\n",
       "    </tr>\n",
       "    <tr>\n",
       "      <th>10</th>\n",
       "      <td>False</td>\n",
       "      <td>False</td>\n",
       "      <td>False</td>\n",
       "      <td>False</td>\n",
       "      <td>False</td>\n",
       "      <td>False</td>\n",
       "    </tr>\n",
       "    <tr>\n",
       "      <th>11</th>\n",
       "      <td>False</td>\n",
       "      <td>False</td>\n",
       "      <td>False</td>\n",
       "      <td>False</td>\n",
       "      <td>False</td>\n",
       "      <td>False</td>\n",
       "    </tr>\n",
       "    <tr>\n",
       "      <th>12</th>\n",
       "      <td>False</td>\n",
       "      <td>False</td>\n",
       "      <td>False</td>\n",
       "      <td>False</td>\n",
       "      <td>False</td>\n",
       "      <td>False</td>\n",
       "    </tr>\n",
       "    <tr>\n",
       "      <th>13</th>\n",
       "      <td>False</td>\n",
       "      <td>False</td>\n",
       "      <td>False</td>\n",
       "      <td>False</td>\n",
       "      <td>False</td>\n",
       "      <td>False</td>\n",
       "    </tr>\n",
       "    <tr>\n",
       "      <th>14</th>\n",
       "      <td>False</td>\n",
       "      <td>False</td>\n",
       "      <td>False</td>\n",
       "      <td>False</td>\n",
       "      <td>False</td>\n",
       "      <td>False</td>\n",
       "    </tr>\n",
       "  </tbody>\n",
       "</table>\n",
       "</div>"
      ],
      "text/plain": [
       "    Unnamed: 0         제 49 기 반기  Unnamed: 2  제 48 기 반기  Unnamed: 4\n",
       "0        False  False      False       False      False       False\n",
       "1        False   True      False       False      False       False\n",
       "2        False  False      False       False      False       False\n",
       "3        False  False      False       False      False       False\n",
       "4        False  False      False       False      False       False\n",
       "5        False  False      False       False      False       False\n",
       "6        False  False      False       False      False       False\n",
       "7        False  False      False       False      False       False\n",
       "8        False  False      False       False      False       False\n",
       "9        False  False      False       False      False       False\n",
       "10       False  False      False       False      False       False\n",
       "11       False  False      False       False      False       False\n",
       "12       False  False      False       False      False       False\n",
       "13       False  False      False       False      False       False\n",
       "14       False  False      False       False      False       False"
      ]
     },
     "execution_count": 34,
     "metadata": {},
     "output_type": "execute_result"
    }
   ],
   "source": [
    "df == '당기순이익(손실)'"
   ]
  },
  {
   "cell_type": "code",
   "execution_count": null,
   "metadata": {},
   "outputs": [],
   "source": []
  }
 ],
 "metadata": {
  "kernelspec": {
   "display_name": "Python 3",
   "language": "python",
   "name": "python3"
  },
  "language_info": {
   "codemirror_mode": {
    "name": "ipython",
    "version": 3
   },
   "file_extension": ".py",
   "mimetype": "text/x-python",
   "name": "python",
   "nbconvert_exporter": "python",
   "pygments_lexer": "ipython3",
   "version": "3.7.0"
  }
 },
 "nbformat": 4,
 "nbformat_minor": 2
}
