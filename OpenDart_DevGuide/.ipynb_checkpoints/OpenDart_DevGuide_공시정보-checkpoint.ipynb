{
 "cells": [
  {
   "cell_type": "code",
   "execution_count": 82,
   "metadata": {},
   "outputs": [],
   "source": [
    "import requests\n",
    "from io import BytesIO\n",
    "import pandas as pd\n",
    "import numpy as np\n",
    "import re\n",
    "import os\n",
    "from datetime import datetime\n",
    "import json\n",
    "import zipfile"
   ]
  },
  {
   "cell_type": "markdown",
   "metadata": {},
   "source": [
    "### 1. 공시정보 > 공시검색\n",
    "> __기능__\n",
    "* 설정 기간 동안 회사에서 공시한 내역 조회\n",
    "\n",
    "> __획득 가능 주요 정보__\n",
    "* stock_code : 상장회사의 종목코드(6자리)\n",
    "* corp_cls : 법인구분, Y(유가), K(코스닥), N(코넥스), E(기타)\n",
    "* report_nm : 보고서명\n",
    "* rcept_no : 접수번호(공시뷰어 연결에 이용)"
   ]
  },
  {
   "cell_type": "code",
   "execution_count": 67,
   "metadata": {},
   "outputs": [],
   "source": [
    "# 요청 인자\n",
    "crtfc_key = '27d86452b033fe973df6f1c980c37a2586801a1a' # API 인증키\n",
    "corp_code = '00126380' # ※ 개발가이드 > 공시정보 > 고유번호 API조회 가능\n",
    "bgn_de = datetime.today().replace(year=2018).strftime('%Y%m%d')\n",
    "end_de = datetime.today().strftime('%Y%m%d')\n",
    "sort = 'date' # 정렬: 접수일자(date), 회사명(crp), 보고서명(rpt), 기본값(date)"
   ]
  },
  {
   "cell_type": "code",
   "execution_count": 70,
   "metadata": {},
   "outputs": [
    {
     "data": {
      "text/plain": [
       "'{\"status\":\"000\",\"message\":\"정상\",\"page_no\":1,\"page_count\":10,\"total_count\":435,\"total_page\":44,\"list\":[{\"corp_code\":\"00126380\",\"corp_name\":\"삼성전자\",\"stock_code\":\"005930\",\"corp_cls\":\"Y\",\"report_nm\":\"최대주주등소유주식변동신고서\",\"rcept_no\":\"20180312800497\",\"flr_nm\":\"삼성전자\",\"rcept_dt\":\"20180312\",\"rm\":\"유\"},{\"corp_code\":\"00126380\",\"corp_name\":\"삼성전자\",\"stock_code\":\"005930\",\"corp_cls\":\"Y\",\"report_nm\":\"중간(분기)배당을위한주주명부폐쇄(기준일)결정\",\"rcept_no\":\"20180312800578\",\"flr_nm\":\"삼성전자\",\"rcept_dt\":\"20180312\",\"rm\":\"유\"},{\"corp_code\":\"00126380\",\"corp_name\":\"삼성전자\",\"stock_code\":\"005930\",\"corp_cls\":\"Y\",\"report_nm\":\"[기재정정]주식분할결정\",\"rcept_no\":\"20180316800856\",\"flr_nm\":\"삼성전자\",\"rcept_dt\":\"20180316\",\"rm\":\"유\"},{\"corp_code\":\"00126380\",\"corp_name\":\"삼성전자\",\"stock_code\":\"005930\",\"corp_cls\":\"Y\",\"report_nm\":\"임원ㆍ주요주주특정증권등소유상황보고서\",\"rcept_no\":\"20180321000176\",\"flr_nm\":\"이상현\",\"rcept_dt\":\"20180321\",\"rm\":\"\"},{\"corp_code\":\"00126380\",\"corp_name\":\"삼성전자\",\"stock_code\":\"005930\",\"corp_cls\":\"Y\",\"report_nm\":\"대표이사(대표집행임원)변경(안내공시)\",\"rcept_no\":\"20180323800566\",\"flr_nm\":\"삼성전자\",\"rcept_dt\":\"20180323\",\"rm\":\"유\"},{\"corp_code\":\"00126380\",\"corp_name\":\"삼성전자\",\"stock_code\":\"005930\",\"corp_cls\":\"Y\",\"report_nm\":\"정기주주총회결과\",\"rcept_no\":\"20180323801114\",\"flr_nm\":\"삼성전자\",\"rcept_dt\":\"20180323\",\"rm\":\"유\"},{\"corp_code\":\"00126380\",\"corp_name\":\"삼성전자\",\"stock_code\":\"005930\",\"corp_cls\":\"Y\",\"report_nm\":\"사외이사의선임ㆍ해임또는중도퇴임에관한신고\",\"rcept_no\":\"20180323000572\",\"flr_nm\":\"삼성전자\",\"rcept_dt\":\"20180323\",\"rm\":\"\"},{\"corp_code\":\"00126380\",\"corp_name\":\"삼성전자\",\"stock_code\":\"005930\",\"corp_cls\":\"Y\",\"report_nm\":\"사외이사의선임ㆍ해임또는중도퇴임에관한신고\",\"rcept_no\":\"20180323000581\",\"flr_nm\":\"삼성전자\",\"rcept_dt\":\"20180323\",\"rm\":\"\"},{\"corp_code\":\"00126380\",\"corp_name\":\"삼성전자\",\"stock_code\":\"005930\",\"corp_cls\":\"Y\",\"report_nm\":\"사외이사의선임ㆍ해임또는중도퇴임에관한신고\",\"rcept_no\":\"20180323000590\",\"flr_nm\":\"삼성전자\",\"rcept_dt\":\"20180323\",\"rm\":\"\"},{\"corp_code\":\"00126380\",\"corp_name\":\"삼성전자\",\"stock_code\":\"005930\",\"corp_cls\":\"Y\",\"report_nm\":\"특수관계인과의보험거래\",\"rcept_no\":\"20180323000599\",\"flr_nm\":\"삼성전자\",\"rcept_dt\":\"20180323\",\"rm\":\"공\"}]}'"
      ]
     },
     "execution_count": 70,
     "metadata": {},
     "output_type": "execute_result"
    }
   ],
   "source": [
    "url_basic = \"https://opendart.fss.or.kr/api/list.json\"\n",
    "url_rest = \"?crtfc_key={}&corp_code={}&bgn_de={}&end_de={}&sort={}\".format(crtfc_key, corp_code, bgn_de, end_de, sort)\n",
    "url = url_basic + url_rest\n",
    "resp = requests.get(url)\n",
    "webpage = resp.content.decode('UTF-8')\n",
    "webpage"
   ]
  },
  {
   "cell_type": "code",
   "execution_count": 69,
   "metadata": {},
   "outputs": [
    {
     "name": "stdout",
     "output_type": "stream",
     "text": [
      "status = 000\n",
      "message = 정상\n",
      "page_no = 1\n",
      "page_count = 10\n",
      "total_count = 435\n",
      "total_page = 44\n",
      "======= 0 =======\n",
      "corp_code = 00126380\n",
      "corp_name = 삼성전자\n",
      "stock_code = 005930\n",
      "corp_cls = Y\n",
      "report_nm = 최대주주등소유주식변동신고서\n",
      "rcept_no = 20180312800497\n",
      "flr_nm = 삼성전자\n",
      "rcept_dt = 20180312\n",
      "rm = 유\n",
      "======= 1 =======\n",
      "corp_code = 00126380\n",
      "corp_name = 삼성전자\n",
      "stock_code = 005930\n",
      "corp_cls = Y\n",
      "report_nm = 중간(분기)배당을위한주주명부폐쇄(기준일)결정\n",
      "rcept_no = 20180312800578\n",
      "flr_nm = 삼성전자\n",
      "rcept_dt = 20180312\n",
      "rm = 유\n",
      "======= 2 =======\n",
      "corp_code = 00126380\n",
      "corp_name = 삼성전자\n",
      "stock_code = 005930\n",
      "corp_cls = Y\n",
      "report_nm = [기재정정]주식분할결정\n",
      "rcept_no = 20180316800856\n",
      "flr_nm = 삼성전자\n",
      "rcept_dt = 20180316\n",
      "rm = 유\n",
      "======= 3 =======\n",
      "corp_code = 00126380\n",
      "corp_name = 삼성전자\n",
      "stock_code = 005930\n",
      "corp_cls = Y\n",
      "report_nm = 임원ㆍ주요주주특정증권등소유상황보고서\n",
      "rcept_no = 20180321000176\n",
      "flr_nm = 이상현\n",
      "rcept_dt = 20180321\n",
      "rm = \n",
      "======= 4 =======\n",
      "corp_code = 00126380\n",
      "corp_name = 삼성전자\n",
      "stock_code = 005930\n",
      "corp_cls = Y\n",
      "report_nm = 대표이사(대표집행임원)변경(안내공시)\n",
      "rcept_no = 20180323800566\n",
      "flr_nm = 삼성전자\n",
      "rcept_dt = 20180323\n",
      "rm = 유\n",
      "======= 5 =======\n",
      "corp_code = 00126380\n",
      "corp_name = 삼성전자\n",
      "stock_code = 005930\n",
      "corp_cls = Y\n",
      "report_nm = 정기주주총회결과\n",
      "rcept_no = 20180323801114\n",
      "flr_nm = 삼성전자\n",
      "rcept_dt = 20180323\n",
      "rm = 유\n",
      "======= 6 =======\n",
      "corp_code = 00126380\n",
      "corp_name = 삼성전자\n",
      "stock_code = 005930\n",
      "corp_cls = Y\n",
      "report_nm = 사외이사의선임ㆍ해임또는중도퇴임에관한신고\n",
      "rcept_no = 20180323000572\n",
      "flr_nm = 삼성전자\n",
      "rcept_dt = 20180323\n",
      "rm = \n",
      "======= 7 =======\n",
      "corp_code = 00126380\n",
      "corp_name = 삼성전자\n",
      "stock_code = 005930\n",
      "corp_cls = Y\n",
      "report_nm = 사외이사의선임ㆍ해임또는중도퇴임에관한신고\n",
      "rcept_no = 20180323000581\n",
      "flr_nm = 삼성전자\n",
      "rcept_dt = 20180323\n",
      "rm = \n",
      "======= 8 =======\n",
      "corp_code = 00126380\n",
      "corp_name = 삼성전자\n",
      "stock_code = 005930\n",
      "corp_cls = Y\n",
      "report_nm = 사외이사의선임ㆍ해임또는중도퇴임에관한신고\n",
      "rcept_no = 20180323000590\n",
      "flr_nm = 삼성전자\n",
      "rcept_dt = 20180323\n",
      "rm = \n",
      "======= 9 =======\n",
      "corp_code = 00126380\n",
      "corp_name = 삼성전자\n",
      "stock_code = 005930\n",
      "corp_cls = Y\n",
      "report_nm = 특수관계인과의보험거래\n",
      "rcept_no = 20180323000599\n",
      "flr_nm = 삼성전자\n",
      "rcept_dt = 20180323\n",
      "rm = 공\n"
     ]
    }
   ],
   "source": [
    "# json 파싱하기\n",
    "dict = json.loads(webpage)\n",
    "for val in dict:\n",
    "    if val == 'list':\n",
    "        for num, ele in enumerate(dict[val]):\n",
    "            print('=======', num, '=======')\n",
    "            for sub_ele in ele:\n",
    "                print(sub_ele,'=', ele[sub_ele])\n",
    "    else: \n",
    "        print(val,'=', dict[val])    "
   ]
  },
  {
   "cell_type": "markdown",
   "metadata": {},
   "source": [
    "### 2. 공시정보 > 기업개황\n",
    "> __획득 가능 주요 정보__\n",
    "* stock_code : 상장회사의 종목코드(6자리)\n",
    "* induty_code : 업종코드\n",
    "* corp_cls : 법인구분, Y(유가), K(코스닥), N(코넥스), E(기타)\n",
    "* ceo_nm : CEO 이름\n",
    "* adres : 회사 주소"
   ]
  },
  {
   "cell_type": "code",
   "execution_count": 74,
   "metadata": {},
   "outputs": [],
   "source": [
    "# 요청 인자\n",
    "crtfc_key = '27d86452b033fe973df6f1c980c37a2586801a1a'\n",
    "corp_code = '00126380' # ※ 개발가이드 > 공시정보 > 고유번호 API조회 가능"
   ]
  },
  {
   "cell_type": "code",
   "execution_count": 75,
   "metadata": {},
   "outputs": [
    {
     "data": {
      "text/plain": [
       "'{\"status\":\"000\",\"message\":\"정상\",\"corp_code\":\"00126380\",\"corp_name\":\"삼성전자(주)\",\"corp_name_eng\":\"SAMSUNG ELECTRONICS CO,.LTD\",\"stock_name\":\"삼성전자\",\"stock_code\":\"005930\",\"ceo_nm\":\"김기남, 김현석, 고동진\",\"corp_cls\":\"Y\",\"jurir_no\":\"1301110006246\",\"bizr_no\":\"1248100998\",\"adres\":\"경기도 수원시 영통구  삼성로 129 (매탄동)\",\"hm_url\":\"www.sec.co.kr\",\"ir_url\":\"\",\"phn_no\":\"031-200-1114\",\"fax_no\":\"031-200-7538\",\"induty_code\":\"264\",\"est_dt\":\"19690113\",\"acc_mt\":\"12\"}'"
      ]
     },
     "execution_count": 75,
     "metadata": {},
     "output_type": "execute_result"
    }
   ],
   "source": [
    "# 자료 불러오기\n",
    "url_basic = \"https://opendart.fss.or.kr/api/company.json\"\n",
    "url_rest = \"?crtfc_key={}&corp_code={}\".format(crtfc_key, corp_code)\n",
    "url = url_basic + url_rest\n",
    "resp = requests.get(url)\n",
    "webpage = resp.content.decode('UTF-8')\n",
    "webpage"
   ]
  },
  {
   "cell_type": "code",
   "execution_count": 76,
   "metadata": {},
   "outputs": [
    {
     "name": "stdout",
     "output_type": "stream",
     "text": [
      "status = 000\n",
      "message = 정상\n",
      "corp_code = 00126380\n",
      "corp_name = 삼성전자(주)\n",
      "corp_name_eng = SAMSUNG ELECTRONICS CO,.LTD\n",
      "stock_name = 삼성전자\n",
      "stock_code = 005930\n",
      "ceo_nm = 김기남, 김현석, 고동진\n",
      "corp_cls = Y\n",
      "jurir_no = 1301110006246\n",
      "bizr_no = 1248100998\n",
      "adres = 경기도 수원시 영통구  삼성로 129 (매탄동)\n",
      "hm_url = www.sec.co.kr\n",
      "ir_url = \n",
      "phn_no = 031-200-1114\n",
      "fax_no = 031-200-7538\n",
      "induty_code = 264\n",
      "est_dt = 19690113\n",
      "acc_mt = 12\n"
     ]
    }
   ],
   "source": [
    "# json 파싱하기\n",
    "dict = json.loads(webpage)\n",
    "for val in dict:\n",
    "    print(val,'=', dict[val])"
   ]
  },
  {
   "cell_type": "markdown",
   "metadata": {},
   "source": [
    "### 3. 공시정보 > 공시서류원본파일\n",
    "> __기능__\n",
    "* 공시서류 원본 파일\n",
    "\n",
    "> __획득 가능 주요 정보__\n",
    "* stock_code : 상장회사의 종목코드(6자리)\n",
    "* induty_code : 업종코드\n",
    "* corp_cls : 법인구분, Y(유가), K(코스닥), N(코넥스), E(기타)\n",
    "* ceo_nm : CEO 이름\n",
    "* adres : 회사 주소"
   ]
  },
  {
   "cell_type": "code",
   "execution_count": 78,
   "metadata": {},
   "outputs": [],
   "source": [
    "# 요청인자\n",
    "crtfc_key = '27d86452b033fe973df6f1c980c37a2586801a1a'\n",
    "rcept_no = '20180312800497'"
   ]
  },
  {
   "cell_type": "code",
   "execution_count": 81,
   "metadata": {},
   "outputs": [
    {
     "ename": "UnicodeDecodeError",
     "evalue": "'utf-8' codec can't decode byte 0xee in position 11: invalid continuation byte",
     "output_type": "error",
     "traceback": [
      "\u001b[1;31m---------------------------------------------------------------------------\u001b[0m",
      "\u001b[1;31mUnicodeDecodeError\u001b[0m                        Traceback (most recent call last)",
      "\u001b[1;32m<ipython-input-81-c3687b1afd2a>\u001b[0m in \u001b[0;36m<module>\u001b[1;34m()\u001b[0m\n\u001b[0;32m      4\u001b[0m \u001b[0murl\u001b[0m \u001b[1;33m=\u001b[0m \u001b[0murl_basic\u001b[0m \u001b[1;33m+\u001b[0m \u001b[0murl_rest\u001b[0m\u001b[1;33m\u001b[0m\u001b[0m\n\u001b[0;32m      5\u001b[0m \u001b[0mresp\u001b[0m \u001b[1;33m=\u001b[0m \u001b[0mrequests\u001b[0m\u001b[1;33m.\u001b[0m\u001b[0mget\u001b[0m\u001b[1;33m(\u001b[0m\u001b[0murl\u001b[0m\u001b[1;33m)\u001b[0m\u001b[1;33m\u001b[0m\u001b[0m\n\u001b[1;32m----> 6\u001b[1;33m \u001b[0mwebpage\u001b[0m \u001b[1;33m=\u001b[0m \u001b[0mresp\u001b[0m\u001b[1;33m.\u001b[0m\u001b[0mcontent\u001b[0m\u001b[1;33m.\u001b[0m\u001b[0mdecode\u001b[0m\u001b[1;33m(\u001b[0m\u001b[1;34m'UTF-8'\u001b[0m\u001b[1;33m)\u001b[0m\u001b[1;33m\u001b[0m\u001b[0m\n\u001b[0m\u001b[0;32m      7\u001b[0m \u001b[0mwebpage\u001b[0m\u001b[1;33m\u001b[0m\u001b[0m\n",
      "\u001b[1;31mUnicodeDecodeError\u001b[0m: 'utf-8' codec can't decode byte 0xee in position 11: invalid continuation byte"
     ]
    }
   ],
   "source": [
    "# 자료 불러오기\n",
    "url_basic = 'https://opendart.fss.or.kr/api/document.xml'\n",
    "url_rest = \"?crtfc_key={}&rcept_no={}\".format(crtfc_key, rcept_no)\n",
    "url = url_basic + url_rest\n",
    "resp = requests.get(url)\n",
    "\n",
    "zip_raw = zipfile.ZipFile(resp)"
   ]
  },
  {
   "cell_type": "code",
   "execution_count": 86,
   "metadata": {},
   "outputs": [],
   "source": []
  },
  {
   "cell_type": "code",
   "execution_count": null,
   "metadata": {},
   "outputs": [],
   "source": []
  }
 ],
 "metadata": {
  "kernelspec": {
   "display_name": "Python 3",
   "language": "python",
   "name": "python3"
  },
  "language_info": {
   "codemirror_mode": {
    "name": "ipython",
    "version": 3
   },
   "file_extension": ".py",
   "mimetype": "text/x-python",
   "name": "python",
   "nbconvert_exporter": "python",
   "pygments_lexer": "ipython3",
   "version": "3.7.0"
  }
 },
 "nbformat": 4,
 "nbformat_minor": 2
}
