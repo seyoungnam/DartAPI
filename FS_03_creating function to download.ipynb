{
 "cells": [
  {
   "cell_type": "code",
   "execution_count": 5,
   "metadata": {},
   "outputs": [],
   "source": [
    "import requests\n",
    "from io import BytesIO\n",
    "import pandas as pd"
   ]
  },
  {
   "cell_type": "code",
   "execution_count": 33,
   "metadata": {},
   "outputs": [],
   "source": [
    "# 함수만들기\n",
    "user_agent = \"Mozilla/5.0 (Windows NT 6.3; Win64; x64) AppleWebKit/537.36 (KHTML, like Gecko) Chrome/63.0.3239.132 Safari/537.36\"\n",
    "\n",
    "def download_excel(url, period, company):\n",
    "    resp = requests.get(url, headers={\"user-agent\": user_agent})\n",
    "    table = BytesIO(resp.content)\n",
    "    for sheet in [\"연결 재무상태표\", \"연결 손익계산서\", \"연결 포괄손익계산서\"]:\n",
    "        data = pd.read_excel(table, sheet_name=sheet, skiprows=5)\n",
    "        data.to_csv(period+company+sheet+\".csv\", encoding=\"euc-kr\")"
   ]
  },
  {
   "cell_type": "code",
   "execution_count": 34,
   "metadata": {},
   "outputs": [],
   "source": [
    "url_1812 = \"http://dart.fss.or.kr/pdf/download/excel.do?rcp_no=20190401004781&dcm_no=6616741&lang=ko\"\n",
    "url_1906 = \"http://dart.fss.or.kr/pdf/download/excel.do?rcp_no=20190814002218&dcm_no=6846651&lang=ko\""
   ]
  },
  {
   "cell_type": "code",
   "execution_count": 35,
   "metadata": {},
   "outputs": [],
   "source": [
    "for period, url in zip(['1812_', '1906_'],[url_1812, url_1906]):\n",
    "    download_excel(url, period, '삼성전자_')"
   ]
  },
  {
   "cell_type": "code",
   "execution_count": 46,
   "metadata": {},
   "outputs": [],
   "source": [
    "# rcp_no와 dcm_no를 input으로 함수 다시 만들기\n",
    "\n",
    "\n",
    "def download_excel_2(rcp_no, dcm_no, period, company):\n",
    "    for rcp, dcm, period in zip(rcp_no, dcm_no, period):\n",
    "        url = \"http://dart.fss.or.kr/pdf/download/excel.do?rcp_no={}&dcm_no={}&lang=ko\".format(rcp,dcm)\n",
    "        resp = requests.get(url, headers={\"user-agent\": user_agent})\n",
    "        table = BytesIO(resp.content)\n",
    "        for sheet in [\"연결 재무상태표\", \"연결 손익계산서\", \"연결 포괄손익계산서\"]:\n",
    "            data = pd.read_excel(table, sheet_name=sheet, skiprows=5)\n",
    "            data.to_csv(period+company+sheet+\".csv\", encoding=\"euc-kr\")"
   ]
  },
  {
   "cell_type": "code",
   "execution_count": 47,
   "metadata": {},
   "outputs": [],
   "source": [
    "rcp_no = ['20190401004781', '20190814002218']\n",
    "dcm_no = ['6616741', '6846651']\n",
    "period = ['1812_', '1906_']\n",
    "\n",
    "download_excel_2(rcp_no, dcm_no, period, '삼성전자_')"
   ]
  },
  {
   "cell_type": "code",
   "execution_count": 49,
   "metadata": {},
   "outputs": [],
   "source": [
    "df = pd.read_csv('pocket.csv')"
   ]
  },
  {
   "cell_type": "code",
   "execution_count": 50,
   "metadata": {},
   "outputs": [
    {
     "data": {
      "text/html": [
       "<div>\n",
       "<style scoped>\n",
       "    .dataframe tbody tr th:only-of-type {\n",
       "        vertical-align: middle;\n",
       "    }\n",
       "\n",
       "    .dataframe tbody tr th {\n",
       "        vertical-align: top;\n",
       "    }\n",
       "\n",
       "    .dataframe thead th {\n",
       "        text-align: right;\n",
       "    }\n",
       "</style>\n",
       "<table border=\"1\" class=\"dataframe\">\n",
       "  <thead>\n",
       "    <tr style=\"text-align: right;\">\n",
       "      <th></th>\n",
       "      <th>period</th>\n",
       "      <th>rcp_no</th>\n",
       "      <th>dcm_no</th>\n",
       "    </tr>\n",
       "  </thead>\n",
       "  <tbody>\n",
       "    <tr>\n",
       "      <th>0</th>\n",
       "      <td>19.09</td>\n",
       "      <td>20191114001273</td>\n",
       "      <td>6958001</td>\n",
       "    </tr>\n",
       "    <tr>\n",
       "      <th>1</th>\n",
       "      <td>19.06</td>\n",
       "      <td>20190814002218</td>\n",
       "      <td>6846651</td>\n",
       "    </tr>\n",
       "    <tr>\n",
       "      <th>2</th>\n",
       "      <td>19.03</td>\n",
       "      <td>20190515001605</td>\n",
       "      <td>6738798</td>\n",
       "    </tr>\n",
       "    <tr>\n",
       "      <th>3</th>\n",
       "      <td>18.12</td>\n",
       "      <td>20190401004781</td>\n",
       "      <td>6616741</td>\n",
       "    </tr>\n",
       "    <tr>\n",
       "      <th>4</th>\n",
       "      <td>18.09</td>\n",
       "      <td>20181114001530</td>\n",
       "      <td>6382016</td>\n",
       "    </tr>\n",
       "    <tr>\n",
       "      <th>5</th>\n",
       "      <td>18.06</td>\n",
       "      <td>20180814001113</td>\n",
       "      <td>6282263</td>\n",
       "    </tr>\n",
       "  </tbody>\n",
       "</table>\n",
       "</div>"
      ],
      "text/plain": [
       "   period          rcp_no   dcm_no\n",
       "0   19.09  20191114001273  6958001\n",
       "1   19.06  20190814002218  6846651\n",
       "2   19.03  20190515001605  6738798\n",
       "3   18.12  20190401004781  6616741\n",
       "4   18.09  20181114001530  6382016\n",
       "5   18.06  20180814001113  6282263"
      ]
     },
     "execution_count": 50,
     "metadata": {},
     "output_type": "execute_result"
    }
   ],
   "source": [
    "df"
   ]
  },
  {
   "cell_type": "code",
   "execution_count": 51,
   "metadata": {},
   "outputs": [
    {
     "data": {
      "text/plain": [
       "0    19.09\n",
       "1    19.06\n",
       "2    19.03\n",
       "3    18.12\n",
       "4    18.09\n",
       "5    18.06\n",
       "Name: period, dtype: float64"
      ]
     },
     "execution_count": 51,
     "metadata": {},
     "output_type": "execute_result"
    }
   ],
   "source": [
    "df['period']"
   ]
  },
  {
   "cell_type": "code",
   "execution_count": 52,
   "metadata": {},
   "outputs": [
    {
     "data": {
      "text/plain": [
       "0    20191114001273\n",
       "1    20190814002218\n",
       "2    20190515001605\n",
       "3    20190401004781\n",
       "4    20181114001530\n",
       "5    20180814001113\n",
       "Name: rcp_no, dtype: int64"
      ]
     },
     "execution_count": 52,
     "metadata": {},
     "output_type": "execute_result"
    }
   ],
   "source": [
    "df['rcp_no']"
   ]
  },
  {
   "cell_type": "code",
   "execution_count": 53,
   "metadata": {},
   "outputs": [
    {
     "data": {
      "text/plain": [
       "0    6958001\n",
       "1    6846651\n",
       "2    6738798\n",
       "3    6616741\n",
       "4    6382016\n",
       "5    6282263\n",
       "Name: dcm_no, dtype: int64"
      ]
     },
     "execution_count": 53,
     "metadata": {},
     "output_type": "execute_result"
    }
   ],
   "source": [
    "df['dcm_no']"
   ]
  },
  {
   "cell_type": "code",
   "execution_count": 54,
   "metadata": {},
   "outputs": [
    {
     "data": {
      "text/plain": [
       "array([19.09, 19.06, 19.03, 18.12, 18.09, 18.06])"
      ]
     },
     "execution_count": 54,
     "metadata": {},
     "output_type": "execute_result"
    }
   ],
   "source": [
    "df['period'].values"
   ]
  },
  {
   "cell_type": "code",
   "execution_count": 55,
   "metadata": {},
   "outputs": [
    {
     "data": {
      "text/plain": [
       "RangeIndex(start=0, stop=6, step=1)"
      ]
     },
     "execution_count": 55,
     "metadata": {},
     "output_type": "execute_result"
    }
   ],
   "source": [
    "df['period'].index"
   ]
  },
  {
   "cell_type": "code",
   "execution_count": 57,
   "metadata": {},
   "outputs": [],
   "source": [
    "def download_excel_3(period, rcp_no, dcm_no, company):\n",
    "    url = \"http://dart.fss.or.kr/pdf/download/excel.do?rcp_no={}&dcm_no={}&lang=ko\".format(rcp_no,dcm_no)\n",
    "    resp = requests.get(url, headers={\"user-agent\": user_agent})\n",
    "    table = BytesIO(resp.content)\n",
    "    for sheet in [\"연결 재무상태표\", \"연결 손익계산서\", \"연결 포괄손익계산서\"]:\n",
    "        data = pd.read_excel(table, sheet_name=sheet, skiprows=5)\n",
    "        data.to_csv(period+company+sheet+\".csv\", encoding=\"euc-kr\")"
   ]
  },
  {
   "cell_type": "code",
   "execution_count": 59,
   "metadata": {},
   "outputs": [
    {
     "name": "stdout",
     "output_type": "stream",
     "text": [
      "19.09 20191114001273 6958001\n",
      "19.06 20190814002218 6846651\n",
      "19.03 20190515001605 6738798\n",
      "18.12 20190401004781 6616741\n",
      "18.09 20181114001530 6382016\n",
      "18.06 20180814001113 6282263\n"
     ]
    }
   ],
   "source": [
    "for period, rcp_no, dcm_no in zip(df['period'].values, df['rcp_no'].values, df['dcm_no'].values):\n",
    "    print(period, rcp_no, dcm_no)\n",
    "    download_excel_3(str(period), rcp_no, dcm_no, '삼성전자_')"
   ]
  },
  {
   "cell_type": "code",
   "execution_count": null,
   "metadata": {},
   "outputs": [],
   "source": [
    "\n"
   ]
  }
 ],
 "metadata": {
  "kernelspec": {
   "display_name": "Python 3",
   "language": "python",
   "name": "python3"
  },
  "language_info": {
   "codemirror_mode": {
    "name": "ipython",
    "version": 3
   },
   "file_extension": ".py",
   "mimetype": "text/x-python",
   "name": "python",
   "nbconvert_exporter": "python",
   "pygments_lexer": "ipython3",
   "version": "3.7.0"
  }
 },
 "nbformat": 4,
 "nbformat_minor": 2
}
